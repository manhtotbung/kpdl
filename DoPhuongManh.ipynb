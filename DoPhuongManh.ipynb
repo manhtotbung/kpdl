{
 "cells": [
  {
   "cell_type": "code",
   "execution_count": 4,
   "id": "c49660f9",
   "metadata": {},
   "outputs": [],
   "source": [
    "import pandas as pd"
   ]
  },
  {
   "cell_type": "code",
   "execution_count": 5,
   "id": "2dd8c4f2",
   "metadata": {},
   "outputs": [
    {
     "data": {
      "text/html": [
       "<div>\n",
       "<style scoped>\n",
       "    .dataframe tbody tr th:only-of-type {\n",
       "        vertical-align: middle;\n",
       "    }\n",
       "\n",
       "    .dataframe tbody tr th {\n",
       "        vertical-align: top;\n",
       "    }\n",
       "\n",
       "    .dataframe thead th {\n",
       "        text-align: right;\n",
       "    }\n",
       "</style>\n",
       "<table border=\"1\" class=\"dataframe\">\n",
       "  <thead>\n",
       "    <tr style=\"text-align: right;\">\n",
       "      <th></th>\n",
       "      <th>X1</th>\n",
       "      <th>X2</th>\n",
       "      <th>X3</th>\n",
       "      <th>X4</th>\n",
       "      <th>X5</th>\n",
       "      <th>X6</th>\n",
       "      <th>X7</th>\n",
       "      <th>X8</th>\n",
       "      <th>X9</th>\n",
       "      <th>X10</th>\n",
       "      <th>X11</th>\n",
       "      <th>X12</th>\n",
       "      <th>X13</th>\n",
       "      <th>X14</th>\n",
       "      <th>X15</th>\n",
       "      <th>X16</th>\n",
       "      <th>y</th>\n",
       "    </tr>\n",
       "  </thead>\n",
       "  <tbody>\n",
       "    <tr>\n",
       "      <th>0</th>\n",
       "      <td>4</td>\n",
       "      <td>7</td>\n",
       "      <td>18</td>\n",
       "      <td>25</td>\n",
       "      <td>28</td>\n",
       "      <td>27</td>\n",
       "      <td>20</td>\n",
       "      <td>10</td>\n",
       "      <td>-10</td>\n",
       "      <td>-18</td>\n",
       "      <td>-20</td>\n",
       "      <td>-16</td>\n",
       "      <td>13</td>\n",
       "      <td>32</td>\n",
       "      <td>12</td>\n",
       "      <td>10</td>\n",
       "      <td>0</td>\n",
       "    </tr>\n",
       "    <tr>\n",
       "      <th>1</th>\n",
       "      <td>87</td>\n",
       "      <td>114</td>\n",
       "      <td>120</td>\n",
       "      <td>106</td>\n",
       "      <td>76</td>\n",
       "      <td>54</td>\n",
       "      <td>28</td>\n",
       "      <td>5</td>\n",
       "      <td>-19</td>\n",
       "      <td>-49</td>\n",
       "      <td>-85</td>\n",
       "      <td>-102</td>\n",
       "      <td>-100</td>\n",
       "      <td>-89</td>\n",
       "      <td>-61</td>\n",
       "      <td>-21</td>\n",
       "      <td>0</td>\n",
       "    </tr>\n",
       "    <tr>\n",
       "      <th>2</th>\n",
       "      <td>-131</td>\n",
       "      <td>-133</td>\n",
       "      <td>-140</td>\n",
       "      <td>-131</td>\n",
       "      <td>-123</td>\n",
       "      <td>-108</td>\n",
       "      <td>-58</td>\n",
       "      <td>-51</td>\n",
       "      <td>-70</td>\n",
       "      <td>-77</td>\n",
       "      <td>-76</td>\n",
       "      <td>-76</td>\n",
       "      <td>-73</td>\n",
       "      <td>-57</td>\n",
       "      <td>-40</td>\n",
       "      <td>-14</td>\n",
       "      <td>0</td>\n",
       "    </tr>\n",
       "    <tr>\n",
       "      <th>3</th>\n",
       "      <td>68</td>\n",
       "      <td>104</td>\n",
       "      <td>73</td>\n",
       "      <td>34</td>\n",
       "      <td>-12</td>\n",
       "      <td>-26</td>\n",
       "      <td>-38</td>\n",
       "      <td>-36</td>\n",
       "      <td>-67</td>\n",
       "      <td>-88</td>\n",
       "      <td>-25</td>\n",
       "      <td>31</td>\n",
       "      <td>18</td>\n",
       "      <td>-4</td>\n",
       "      <td>6</td>\n",
       "      <td>-29</td>\n",
       "      <td>0</td>\n",
       "    </tr>\n",
       "    <tr>\n",
       "      <th>4</th>\n",
       "      <td>-67</td>\n",
       "      <td>-90</td>\n",
       "      <td>-97</td>\n",
       "      <td>-94</td>\n",
       "      <td>-86</td>\n",
       "      <td>-71</td>\n",
       "      <td>-43</td>\n",
       "      <td>-11</td>\n",
       "      <td>23</td>\n",
       "      <td>46</td>\n",
       "      <td>58</td>\n",
       "      <td>50</td>\n",
       "      <td>39</td>\n",
       "      <td>19</td>\n",
       "      <td>-9</td>\n",
       "      <td>-41</td>\n",
       "      <td>0</td>\n",
       "    </tr>\n",
       "    <tr>\n",
       "      <th>...</th>\n",
       "      <td>...</td>\n",
       "      <td>...</td>\n",
       "      <td>...</td>\n",
       "      <td>...</td>\n",
       "      <td>...</td>\n",
       "      <td>...</td>\n",
       "      <td>...</td>\n",
       "      <td>...</td>\n",
       "      <td>...</td>\n",
       "      <td>...</td>\n",
       "      <td>...</td>\n",
       "      <td>...</td>\n",
       "      <td>...</td>\n",
       "      <td>...</td>\n",
       "      <td>...</td>\n",
       "      <td>...</td>\n",
       "      <td>...</td>\n",
       "    </tr>\n",
       "    <tr>\n",
       "      <th>7995</th>\n",
       "      <td>-9</td>\n",
       "      <td>-4</td>\n",
       "      <td>-7</td>\n",
       "      <td>2</td>\n",
       "      <td>-9</td>\n",
       "      <td>-14</td>\n",
       "      <td>-7</td>\n",
       "      <td>12</td>\n",
       "      <td>-5</td>\n",
       "      <td>-3</td>\n",
       "      <td>-2</td>\n",
       "      <td>-2</td>\n",
       "      <td>-12</td>\n",
       "      <td>-5</td>\n",
       "      <td>4</td>\n",
       "      <td>1</td>\n",
       "      <td>3</td>\n",
       "    </tr>\n",
       "    <tr>\n",
       "      <th>7996</th>\n",
       "      <td>-8</td>\n",
       "      <td>-4</td>\n",
       "      <td>-7</td>\n",
       "      <td>1</td>\n",
       "      <td>-8</td>\n",
       "      <td>-14</td>\n",
       "      <td>-7</td>\n",
       "      <td>12</td>\n",
       "      <td>-6</td>\n",
       "      <td>-3</td>\n",
       "      <td>-2</td>\n",
       "      <td>-3</td>\n",
       "      <td>-15</td>\n",
       "      <td>-4</td>\n",
       "      <td>4</td>\n",
       "      <td>1</td>\n",
       "      <td>3</td>\n",
       "    </tr>\n",
       "    <tr>\n",
       "      <th>7997</th>\n",
       "      <td>-6</td>\n",
       "      <td>-5</td>\n",
       "      <td>-7</td>\n",
       "      <td>1</td>\n",
       "      <td>-8</td>\n",
       "      <td>-14</td>\n",
       "      <td>-7</td>\n",
       "      <td>12</td>\n",
       "      <td>-7</td>\n",
       "      <td>-3</td>\n",
       "      <td>-2</td>\n",
       "      <td>-4</td>\n",
       "      <td>-16</td>\n",
       "      <td>-4</td>\n",
       "      <td>3</td>\n",
       "      <td>1</td>\n",
       "      <td>3</td>\n",
       "    </tr>\n",
       "    <tr>\n",
       "      <th>7998</th>\n",
       "      <td>-5</td>\n",
       "      <td>-6</td>\n",
       "      <td>-6</td>\n",
       "      <td>1</td>\n",
       "      <td>-8</td>\n",
       "      <td>-13</td>\n",
       "      <td>-7</td>\n",
       "      <td>13</td>\n",
       "      <td>-7</td>\n",
       "      <td>-2</td>\n",
       "      <td>-3</td>\n",
       "      <td>-5</td>\n",
       "      <td>-15</td>\n",
       "      <td>-4</td>\n",
       "      <td>3</td>\n",
       "      <td>0</td>\n",
       "      <td>3</td>\n",
       "    </tr>\n",
       "    <tr>\n",
       "      <th>7999</th>\n",
       "      <td>-4</td>\n",
       "      <td>-7</td>\n",
       "      <td>-5</td>\n",
       "      <td>2</td>\n",
       "      <td>-8</td>\n",
       "      <td>-12</td>\n",
       "      <td>-7</td>\n",
       "      <td>14</td>\n",
       "      <td>-6</td>\n",
       "      <td>0</td>\n",
       "      <td>-3</td>\n",
       "      <td>-6</td>\n",
       "      <td>-13</td>\n",
       "      <td>-4</td>\n",
       "      <td>2</td>\n",
       "      <td>0</td>\n",
       "      <td>3</td>\n",
       "    </tr>\n",
       "  </tbody>\n",
       "</table>\n",
       "<p>8000 rows × 17 columns</p>\n",
       "</div>"
      ],
      "text/plain": [
       "       X1   X2   X3   X4   X5   X6  X7  X8  X9  X10  X11  X12  X13  X14  X15  \\\n",
       "0       4    7   18   25   28   27  20  10 -10  -18  -20  -16   13   32   12   \n",
       "1      87  114  120  106   76   54  28   5 -19  -49  -85 -102 -100  -89  -61   \n",
       "2    -131 -133 -140 -131 -123 -108 -58 -51 -70  -77  -76  -76  -73  -57  -40   \n",
       "3      68  104   73   34  -12  -26 -38 -36 -67  -88  -25   31   18   -4    6   \n",
       "4     -67  -90  -97  -94  -86  -71 -43 -11  23   46   58   50   39   19   -9   \n",
       "...   ...  ...  ...  ...  ...  ...  ..  ..  ..  ...  ...  ...  ...  ...  ...   \n",
       "7995   -9   -4   -7    2   -9  -14  -7  12  -5   -3   -2   -2  -12   -5    4   \n",
       "7996   -8   -4   -7    1   -8  -14  -7  12  -6   -3   -2   -3  -15   -4    4   \n",
       "7997   -6   -5   -7    1   -8  -14  -7  12  -7   -3   -2   -4  -16   -4    3   \n",
       "7998   -5   -6   -6    1   -8  -13  -7  13  -7   -2   -3   -5  -15   -4    3   \n",
       "7999   -4   -7   -5    2   -8  -12  -7  14  -6    0   -3   -6  -13   -4    2   \n",
       "\n",
       "      X16  y  \n",
       "0      10  0  \n",
       "1     -21  0  \n",
       "2     -14  0  \n",
       "3     -29  0  \n",
       "4     -41  0  \n",
       "...   ... ..  \n",
       "7995    1  3  \n",
       "7996    1  3  \n",
       "7997    1  3  \n",
       "7998    0  3  \n",
       "7999    0  3  \n",
       "\n",
       "[8000 rows x 17 columns]"
      ]
     },
     "execution_count": 5,
     "metadata": {},
     "output_type": "execute_result"
    }
   ],
   "source": [
    "df = pd.read_excel(\"beed.xlsx\")\n",
    "df"
   ]
  },
  {
   "cell_type": "code",
   "execution_count": 6,
   "id": "e404ebf2",
   "metadata": {},
   "outputs": [
    {
     "data": {
      "text/plain": [
       "X1     int64\n",
       "X2     int64\n",
       "X3     int64\n",
       "X4     int64\n",
       "X5     int64\n",
       "X6     int64\n",
       "X7     int64\n",
       "X8     int64\n",
       "X9     int64\n",
       "X10    int64\n",
       "X11    int64\n",
       "X12    int64\n",
       "X13    int64\n",
       "X14    int64\n",
       "X15    int64\n",
       "X16    int64\n",
       "y      int64\n",
       "dtype: object"
      ]
     },
     "execution_count": 6,
     "metadata": {},
     "output_type": "execute_result"
    }
   ],
   "source": [
    "df.dtypes"
   ]
  },
  {
   "cell_type": "code",
   "execution_count": 7,
   "id": "07382938",
   "metadata": {},
   "outputs": [
    {
     "data": {
      "text/plain": [
       "0    2000\n",
       "1    2000\n",
       "2    2000\n",
       "3    2000\n",
       "Name: y, dtype: int64"
      ]
     },
     "execution_count": 7,
     "metadata": {},
     "output_type": "execute_result"
    }
   ],
   "source": [
    "df[\"y\"].value_counts(dropna=False)"
   ]
  },
  {
   "cell_type": "code",
   "execution_count": 8,
   "id": "34040b3e",
   "metadata": {},
   "outputs": [
    {
     "data": {
      "text/html": [
       "<div>\n",
       "<style scoped>\n",
       "    .dataframe tbody tr th:only-of-type {\n",
       "        vertical-align: middle;\n",
       "    }\n",
       "\n",
       "    .dataframe tbody tr th {\n",
       "        vertical-align: top;\n",
       "    }\n",
       "\n",
       "    .dataframe thead th {\n",
       "        text-align: right;\n",
       "    }\n",
       "</style>\n",
       "<table border=\"1\" class=\"dataframe\">\n",
       "  <thead>\n",
       "    <tr style=\"text-align: right;\">\n",
       "      <th></th>\n",
       "      <th>X1</th>\n",
       "      <th>X2</th>\n",
       "      <th>X3</th>\n",
       "      <th>X4</th>\n",
       "      <th>X5</th>\n",
       "      <th>X6</th>\n",
       "      <th>X7</th>\n",
       "      <th>X8</th>\n",
       "      <th>X9</th>\n",
       "      <th>X10</th>\n",
       "      <th>X11</th>\n",
       "      <th>X12</th>\n",
       "      <th>X13</th>\n",
       "      <th>X14</th>\n",
       "      <th>X15</th>\n",
       "      <th>X16</th>\n",
       "    </tr>\n",
       "  </thead>\n",
       "  <tbody>\n",
       "    <tr>\n",
       "      <th>0</th>\n",
       "      <td>4</td>\n",
       "      <td>7</td>\n",
       "      <td>18</td>\n",
       "      <td>25</td>\n",
       "      <td>28</td>\n",
       "      <td>27</td>\n",
       "      <td>20</td>\n",
       "      <td>10</td>\n",
       "      <td>-10</td>\n",
       "      <td>-18</td>\n",
       "      <td>-20</td>\n",
       "      <td>-16</td>\n",
       "      <td>13</td>\n",
       "      <td>32</td>\n",
       "      <td>12</td>\n",
       "      <td>10</td>\n",
       "    </tr>\n",
       "    <tr>\n",
       "      <th>1</th>\n",
       "      <td>87</td>\n",
       "      <td>114</td>\n",
       "      <td>120</td>\n",
       "      <td>106</td>\n",
       "      <td>76</td>\n",
       "      <td>54</td>\n",
       "      <td>28</td>\n",
       "      <td>5</td>\n",
       "      <td>-19</td>\n",
       "      <td>-49</td>\n",
       "      <td>-85</td>\n",
       "      <td>-102</td>\n",
       "      <td>-100</td>\n",
       "      <td>-89</td>\n",
       "      <td>-61</td>\n",
       "      <td>-21</td>\n",
       "    </tr>\n",
       "    <tr>\n",
       "      <th>2</th>\n",
       "      <td>-131</td>\n",
       "      <td>-133</td>\n",
       "      <td>-140</td>\n",
       "      <td>-131</td>\n",
       "      <td>-123</td>\n",
       "      <td>-108</td>\n",
       "      <td>-58</td>\n",
       "      <td>-51</td>\n",
       "      <td>-70</td>\n",
       "      <td>-77</td>\n",
       "      <td>-76</td>\n",
       "      <td>-76</td>\n",
       "      <td>-73</td>\n",
       "      <td>-57</td>\n",
       "      <td>-40</td>\n",
       "      <td>-14</td>\n",
       "    </tr>\n",
       "    <tr>\n",
       "      <th>3</th>\n",
       "      <td>68</td>\n",
       "      <td>104</td>\n",
       "      <td>73</td>\n",
       "      <td>34</td>\n",
       "      <td>-12</td>\n",
       "      <td>-26</td>\n",
       "      <td>-38</td>\n",
       "      <td>-36</td>\n",
       "      <td>-67</td>\n",
       "      <td>-88</td>\n",
       "      <td>-25</td>\n",
       "      <td>31</td>\n",
       "      <td>18</td>\n",
       "      <td>-4</td>\n",
       "      <td>6</td>\n",
       "      <td>-29</td>\n",
       "    </tr>\n",
       "    <tr>\n",
       "      <th>4</th>\n",
       "      <td>-67</td>\n",
       "      <td>-90</td>\n",
       "      <td>-97</td>\n",
       "      <td>-94</td>\n",
       "      <td>-86</td>\n",
       "      <td>-71</td>\n",
       "      <td>-43</td>\n",
       "      <td>-11</td>\n",
       "      <td>23</td>\n",
       "      <td>46</td>\n",
       "      <td>58</td>\n",
       "      <td>50</td>\n",
       "      <td>39</td>\n",
       "      <td>19</td>\n",
       "      <td>-9</td>\n",
       "      <td>-41</td>\n",
       "    </tr>\n",
       "    <tr>\n",
       "      <th>...</th>\n",
       "      <td>...</td>\n",
       "      <td>...</td>\n",
       "      <td>...</td>\n",
       "      <td>...</td>\n",
       "      <td>...</td>\n",
       "      <td>...</td>\n",
       "      <td>...</td>\n",
       "      <td>...</td>\n",
       "      <td>...</td>\n",
       "      <td>...</td>\n",
       "      <td>...</td>\n",
       "      <td>...</td>\n",
       "      <td>...</td>\n",
       "      <td>...</td>\n",
       "      <td>...</td>\n",
       "      <td>...</td>\n",
       "    </tr>\n",
       "    <tr>\n",
       "      <th>7995</th>\n",
       "      <td>-9</td>\n",
       "      <td>-4</td>\n",
       "      <td>-7</td>\n",
       "      <td>2</td>\n",
       "      <td>-9</td>\n",
       "      <td>-14</td>\n",
       "      <td>-7</td>\n",
       "      <td>12</td>\n",
       "      <td>-5</td>\n",
       "      <td>-3</td>\n",
       "      <td>-2</td>\n",
       "      <td>-2</td>\n",
       "      <td>-12</td>\n",
       "      <td>-5</td>\n",
       "      <td>4</td>\n",
       "      <td>1</td>\n",
       "    </tr>\n",
       "    <tr>\n",
       "      <th>7996</th>\n",
       "      <td>-8</td>\n",
       "      <td>-4</td>\n",
       "      <td>-7</td>\n",
       "      <td>1</td>\n",
       "      <td>-8</td>\n",
       "      <td>-14</td>\n",
       "      <td>-7</td>\n",
       "      <td>12</td>\n",
       "      <td>-6</td>\n",
       "      <td>-3</td>\n",
       "      <td>-2</td>\n",
       "      <td>-3</td>\n",
       "      <td>-15</td>\n",
       "      <td>-4</td>\n",
       "      <td>4</td>\n",
       "      <td>1</td>\n",
       "    </tr>\n",
       "    <tr>\n",
       "      <th>7997</th>\n",
       "      <td>-6</td>\n",
       "      <td>-5</td>\n",
       "      <td>-7</td>\n",
       "      <td>1</td>\n",
       "      <td>-8</td>\n",
       "      <td>-14</td>\n",
       "      <td>-7</td>\n",
       "      <td>12</td>\n",
       "      <td>-7</td>\n",
       "      <td>-3</td>\n",
       "      <td>-2</td>\n",
       "      <td>-4</td>\n",
       "      <td>-16</td>\n",
       "      <td>-4</td>\n",
       "      <td>3</td>\n",
       "      <td>1</td>\n",
       "    </tr>\n",
       "    <tr>\n",
       "      <th>7998</th>\n",
       "      <td>-5</td>\n",
       "      <td>-6</td>\n",
       "      <td>-6</td>\n",
       "      <td>1</td>\n",
       "      <td>-8</td>\n",
       "      <td>-13</td>\n",
       "      <td>-7</td>\n",
       "      <td>13</td>\n",
       "      <td>-7</td>\n",
       "      <td>-2</td>\n",
       "      <td>-3</td>\n",
       "      <td>-5</td>\n",
       "      <td>-15</td>\n",
       "      <td>-4</td>\n",
       "      <td>3</td>\n",
       "      <td>0</td>\n",
       "    </tr>\n",
       "    <tr>\n",
       "      <th>7999</th>\n",
       "      <td>-4</td>\n",
       "      <td>-7</td>\n",
       "      <td>-5</td>\n",
       "      <td>2</td>\n",
       "      <td>-8</td>\n",
       "      <td>-12</td>\n",
       "      <td>-7</td>\n",
       "      <td>14</td>\n",
       "      <td>-6</td>\n",
       "      <td>0</td>\n",
       "      <td>-3</td>\n",
       "      <td>-6</td>\n",
       "      <td>-13</td>\n",
       "      <td>-4</td>\n",
       "      <td>2</td>\n",
       "      <td>0</td>\n",
       "    </tr>\n",
       "  </tbody>\n",
       "</table>\n",
       "<p>8000 rows × 16 columns</p>\n",
       "</div>"
      ],
      "text/plain": [
       "       X1   X2   X3   X4   X5   X6  X7  X8  X9  X10  X11  X12  X13  X14  X15  \\\n",
       "0       4    7   18   25   28   27  20  10 -10  -18  -20  -16   13   32   12   \n",
       "1      87  114  120  106   76   54  28   5 -19  -49  -85 -102 -100  -89  -61   \n",
       "2    -131 -133 -140 -131 -123 -108 -58 -51 -70  -77  -76  -76  -73  -57  -40   \n",
       "3      68  104   73   34  -12  -26 -38 -36 -67  -88  -25   31   18   -4    6   \n",
       "4     -67  -90  -97  -94  -86  -71 -43 -11  23   46   58   50   39   19   -9   \n",
       "...   ...  ...  ...  ...  ...  ...  ..  ..  ..  ...  ...  ...  ...  ...  ...   \n",
       "7995   -9   -4   -7    2   -9  -14  -7  12  -5   -3   -2   -2  -12   -5    4   \n",
       "7996   -8   -4   -7    1   -8  -14  -7  12  -6   -3   -2   -3  -15   -4    4   \n",
       "7997   -6   -5   -7    1   -8  -14  -7  12  -7   -3   -2   -4  -16   -4    3   \n",
       "7998   -5   -6   -6    1   -8  -13  -7  13  -7   -2   -3   -5  -15   -4    3   \n",
       "7999   -4   -7   -5    2   -8  -12  -7  14  -6    0   -3   -6  -13   -4    2   \n",
       "\n",
       "      X16  \n",
       "0      10  \n",
       "1     -21  \n",
       "2     -14  \n",
       "3     -29  \n",
       "4     -41  \n",
       "...   ...  \n",
       "7995    1  \n",
       "7996    1  \n",
       "7997    1  \n",
       "7998    0  \n",
       "7999    0  \n",
       "\n",
       "[8000 rows x 16 columns]"
      ]
     },
     "execution_count": 8,
     "metadata": {},
     "output_type": "execute_result"
    }
   ],
   "source": [
    "X =df.iloc[:, :-1]\n",
    "X"
   ]
  },
  {
   "cell_type": "code",
   "execution_count": 9,
   "id": "43629226",
   "metadata": {},
   "outputs": [
    {
     "data": {
      "text/plain": [
       "0       0\n",
       "1       0\n",
       "2       0\n",
       "3       0\n",
       "4       0\n",
       "       ..\n",
       "7995    3\n",
       "7996    3\n",
       "7997    3\n",
       "7998    3\n",
       "7999    3\n",
       "Name: y, Length: 8000, dtype: int64"
      ]
     },
     "execution_count": 9,
     "metadata": {},
     "output_type": "execute_result"
    }
   ],
   "source": [
    "Y = df.iloc[:,-1]\n",
    "Y"
   ]
  },
  {
   "cell_type": "code",
   "execution_count": 10,
   "id": "eb749d72",
   "metadata": {},
   "outputs": [],
   "source": [
    "from sklearn.model_selection import train_test_split\n",
    "x_train, x_test, y_train, y_test = train_test_split(X, Y, stratify=Y, test_size=0.3, random_state=1)"
   ]
  },
  {
   "cell_type": "code",
   "execution_count": 11,
   "id": "e8cc89c5",
   "metadata": {},
   "outputs": [
    {
     "data": {
      "text/plain": [
       "((8000, 16), (8000,))"
      ]
     },
     "execution_count": 11,
     "metadata": {},
     "output_type": "execute_result"
    }
   ],
   "source": [
    "X.shape, Y.shape"
   ]
  },
  {
   "cell_type": "code",
   "execution_count": 12,
   "id": "0b741d6d",
   "metadata": {},
   "outputs": [
    {
     "data": {
      "text/plain": [
       "((5600, 16), (5600,), (2400, 16), (2400,))"
      ]
     },
     "execution_count": 12,
     "metadata": {},
     "output_type": "execute_result"
    }
   ],
   "source": [
    "x_train.shape, y_train.shape, x_test.shape, y_test.shape"
   ]
  },
  {
   "cell_type": "markdown",
   "id": "087e1eeb",
   "metadata": {},
   "source": [
    "## KNN classifier"
   ]
  },
  {
   "cell_type": "code",
   "execution_count": 17,
   "id": "8be21c2c",
   "metadata": {},
   "outputs": [
    {
     "data": {
      "text/html": [
       "<style>#sk-container-id-1 {color: black;background-color: white;}#sk-container-id-1 pre{padding: 0;}#sk-container-id-1 div.sk-toggleable {background-color: white;}#sk-container-id-1 label.sk-toggleable__label {cursor: pointer;display: block;width: 100%;margin-bottom: 0;padding: 0.3em;box-sizing: border-box;text-align: center;}#sk-container-id-1 label.sk-toggleable__label-arrow:before {content: \"▸\";float: left;margin-right: 0.25em;color: #696969;}#sk-container-id-1 label.sk-toggleable__label-arrow:hover:before {color: black;}#sk-container-id-1 div.sk-estimator:hover label.sk-toggleable__label-arrow:before {color: black;}#sk-container-id-1 div.sk-toggleable__content {max-height: 0;max-width: 0;overflow: hidden;text-align: left;background-color: #f0f8ff;}#sk-container-id-1 div.sk-toggleable__content pre {margin: 0.2em;color: black;border-radius: 0.25em;background-color: #f0f8ff;}#sk-container-id-1 input.sk-toggleable__control:checked~div.sk-toggleable__content {max-height: 200px;max-width: 100%;overflow: auto;}#sk-container-id-1 input.sk-toggleable__control:checked~label.sk-toggleable__label-arrow:before {content: \"▾\";}#sk-container-id-1 div.sk-estimator input.sk-toggleable__control:checked~label.sk-toggleable__label {background-color: #d4ebff;}#sk-container-id-1 div.sk-label input.sk-toggleable__control:checked~label.sk-toggleable__label {background-color: #d4ebff;}#sk-container-id-1 input.sk-hidden--visually {border: 0;clip: rect(1px 1px 1px 1px);clip: rect(1px, 1px, 1px, 1px);height: 1px;margin: -1px;overflow: hidden;padding: 0;position: absolute;width: 1px;}#sk-container-id-1 div.sk-estimator {font-family: monospace;background-color: #f0f8ff;border: 1px dotted black;border-radius: 0.25em;box-sizing: border-box;margin-bottom: 0.5em;}#sk-container-id-1 div.sk-estimator:hover {background-color: #d4ebff;}#sk-container-id-1 div.sk-parallel-item::after {content: \"\";width: 100%;border-bottom: 1px solid gray;flex-grow: 1;}#sk-container-id-1 div.sk-label:hover label.sk-toggleable__label {background-color: #d4ebff;}#sk-container-id-1 div.sk-serial::before {content: \"\";position: absolute;border-left: 1px solid gray;box-sizing: border-box;top: 0;bottom: 0;left: 50%;z-index: 0;}#sk-container-id-1 div.sk-serial {display: flex;flex-direction: column;align-items: center;background-color: white;padding-right: 0.2em;padding-left: 0.2em;position: relative;}#sk-container-id-1 div.sk-item {position: relative;z-index: 1;}#sk-container-id-1 div.sk-parallel {display: flex;align-items: stretch;justify-content: center;background-color: white;position: relative;}#sk-container-id-1 div.sk-item::before, #sk-container-id-1 div.sk-parallel-item::before {content: \"\";position: absolute;border-left: 1px solid gray;box-sizing: border-box;top: 0;bottom: 0;left: 50%;z-index: -1;}#sk-container-id-1 div.sk-parallel-item {display: flex;flex-direction: column;z-index: 1;position: relative;background-color: white;}#sk-container-id-1 div.sk-parallel-item:first-child::after {align-self: flex-end;width: 50%;}#sk-container-id-1 div.sk-parallel-item:last-child::after {align-self: flex-start;width: 50%;}#sk-container-id-1 div.sk-parallel-item:only-child::after {width: 0;}#sk-container-id-1 div.sk-dashed-wrapped {border: 1px dashed gray;margin: 0 0.4em 0.5em 0.4em;box-sizing: border-box;padding-bottom: 0.4em;background-color: white;}#sk-container-id-1 div.sk-label label {font-family: monospace;font-weight: bold;display: inline-block;line-height: 1.2em;}#sk-container-id-1 div.sk-label-container {text-align: center;}#sk-container-id-1 div.sk-container {/* jupyter's `normalize.less` sets `[hidden] { display: none; }` but bootstrap.min.css set `[hidden] { display: none !important; }` so we also need the `!important` here to be able to override the default hidden behavior on the sphinx rendered scikit-learn.org. See: https://github.com/scikit-learn/scikit-learn/issues/21755 */display: inline-block !important;position: relative;}#sk-container-id-1 div.sk-text-repr-fallback {display: none;}</style><div id=\"sk-container-id-1\" class=\"sk-top-container\"><div class=\"sk-text-repr-fallback\"><pre>KNeighborsClassifier(n_neighbors=9)</pre><b>In a Jupyter environment, please rerun this cell to show the HTML representation or trust the notebook. <br />On GitHub, the HTML representation is unable to render, please try loading this page with nbviewer.org.</b></div><div class=\"sk-container\" hidden><div class=\"sk-item\"><div class=\"sk-estimator sk-toggleable\"><input class=\"sk-toggleable__control sk-hidden--visually\" id=\"sk-estimator-id-1\" type=\"checkbox\" checked><label for=\"sk-estimator-id-1\" class=\"sk-toggleable__label sk-toggleable__label-arrow\">KNeighborsClassifier</label><div class=\"sk-toggleable__content\"><pre>KNeighborsClassifier(n_neighbors=9)</pre></div></div></div></div></div>"
      ],
      "text/plain": [
       "KNeighborsClassifier(n_neighbors=9)"
      ]
     },
     "execution_count": 17,
     "metadata": {},
     "output_type": "execute_result"
    }
   ],
   "source": [
    "from sklearn.neighbors import KNeighborsClassifier\n",
    "km_class = KNeighborsClassifier(n_neighbors = 9)\n",
    "km_class.fit(x_train, y_train)"
   ]
  },
  {
   "cell_type": "code",
   "execution_count": 18,
   "id": "f9f95060",
   "metadata": {},
   "outputs": [
    {
     "name": "stdout",
     "output_type": "stream",
     "text": [
      "      y_predicted  y_test\n",
      "4417            2       2\n",
      "4852            2       2\n",
      "176             0       0\n",
      "3541            3       1\n",
      "6253            3       3\n",
      "3192            1       1\n",
      "1727            0       0\n",
      "5933            2       2\n",
      "7847            3       3\n",
      "6532            3       3\n"
     ]
    }
   ],
   "source": [
    "y_predicted = km_class.predict(x_test)\n",
    "print(pd.DataFrame({\"y_predicted\": y_predicted, \"y_test\":y_test}).head(10))"
   ]
  },
  {
   "cell_type": "code",
   "execution_count": 35,
   "id": "8a0b2605",
   "metadata": {},
   "outputs": [],
   "source": [
    "from sklearn.metrics import accuracy_score, confusion_matrix, precision_score, recall_score, f1_score, classification_report"
   ]
  },
  {
   "cell_type": "code",
   "execution_count": 20,
   "id": "d8a8d7ba",
   "metadata": {},
   "outputs": [
    {
     "name": "stdout",
     "output_type": "stream",
     "text": [
      "Confusion Matrix: \n",
      "[[584   4   1  11]\n",
      " [  0 503  55  42]\n",
      " [  0   3 565  32]\n",
      " [  0  12  35 553]] \n",
      "\n"
     ]
    }
   ],
   "source": [
    "#đánh giá mô hình\n",
    "print(\"Confusion Matrix: \")\n",
    "print (confusion_matrix(y_test, y_predicted, labels =[0,1,2,3]),'\\n')"
   ]
  },
  {
   "cell_type": "code",
   "execution_count": 25,
   "id": "c8e09f0e",
   "metadata": {},
   "outputs": [
    {
     "name": "stdout",
     "output_type": "stream",
     "text": [
      "Accurate Score: \n",
      "91.875\n"
     ]
    }
   ],
   "source": [
    "acc = accuracy_score(y_test, y_predicted)*100\n",
    "print ('Accurate Score: ')\n",
    "print (acc)"
   ]
  },
  {
   "cell_type": "code",
   "execution_count": 26,
   "id": "e9ca5641",
   "metadata": {},
   "outputs": [
    {
     "name": "stdout",
     "output_type": "stream",
     "text": [
      "Precision\n",
      "[100.          96.36015326  86.12804878  86.67711599] \n",
      "\n"
     ]
    }
   ],
   "source": [
    "print ('Precision')\n",
    "print(precision_score(y_test, y_predicted, labels =[0,1,2,3], average = None)*100, '\\n')\n",
    "#Precision của 0 là: 100\n",
    "#Precision của 1 là: 96,36\n",
    "#Precision của 2 là: 86,13\n",
    "#Precision của 3 là: 86,68"
   ]
  },
  {
   "cell_type": "code",
   "execution_count": 38,
   "id": "9effb3b3",
   "metadata": {},
   "outputs": [
    {
     "name": "stdout",
     "output_type": "stream",
     "text": [
      "Recall score: \n",
      "[0.97333333 0.83833333 0.94166667 0.92166667] \n",
      "\n"
     ]
    }
   ],
   "source": [
    "print ('Recall score: ')\n",
    "print(recall_score(y_test, y_predicted, labels =[0,1,2,3], average = None), '\\n')\n",
    "#Recall score của 0 là: 0,97\n",
    "#Recall score của 1 là: 0,83\n",
    "#Recall score 2 là: 0,94\n",
    "#Recall score 3 là: 0,92"
   ]
  },
  {
   "cell_type": "code",
   "execution_count": 37,
   "id": "33134eaa",
   "metadata": {},
   "outputs": [
    {
     "name": "stdout",
     "output_type": "stream",
     "text": [
      "F1 score: \n",
      "[98.64864865 89.66131907 89.96815287 89.33764136] \n",
      "\n"
     ]
    }
   ],
   "source": [
    "print ('F1 score: ')\n",
    "print(f1_score(y_test, y_predicted, labels =[0,1,2,3], average = None)*100, '\\n')\n",
    "#F1 score của 0 là: 98,65\n",
    "#F1 score của 1 là: 89,67\n",
    "#F1 score của 2 là: 89,97\n",
    "#F1 score của 3 là: 89,33"
   ]
  },
  {
   "cell_type": "code",
   "execution_count": 36,
   "id": "96153aee",
   "metadata": {
    "scrolled": true
   },
   "outputs": [
    {
     "name": "stdout",
     "output_type": "stream",
     "text": [
      "              precision    recall  f1-score   support\n",
      "\n",
      "           0       1.00      0.97      0.99       600\n",
      "           1       0.96      0.84      0.90       600\n",
      "           2       0.86      0.94      0.90       600\n",
      "           3       0.87      0.92      0.89       600\n",
      "\n",
      "    accuracy                           0.92      2400\n",
      "   macro avg       0.92      0.92      0.92      2400\n",
      "weighted avg       0.92      0.92      0.92      2400\n",
      "\n"
     ]
    }
   ],
   "source": [
    "print(classification_report(y_test, y_predicted))"
   ]
  },
  {
   "cell_type": "markdown",
   "id": "c7f1d486",
   "metadata": {},
   "source": [
    "## DT classifier"
   ]
  },
  {
   "cell_type": "code",
   "execution_count": 39,
   "id": "cd2b83a7",
   "metadata": {},
   "outputs": [],
   "source": [
    "from sklearn.tree import DecisionTreeClassifier"
   ]
  },
  {
   "cell_type": "code",
   "execution_count": 41,
   "id": "d13f7819",
   "metadata": {},
   "outputs": [
    {
     "data": {
      "text/html": [
       "<style>#sk-container-id-2 {color: black;background-color: white;}#sk-container-id-2 pre{padding: 0;}#sk-container-id-2 div.sk-toggleable {background-color: white;}#sk-container-id-2 label.sk-toggleable__label {cursor: pointer;display: block;width: 100%;margin-bottom: 0;padding: 0.3em;box-sizing: border-box;text-align: center;}#sk-container-id-2 label.sk-toggleable__label-arrow:before {content: \"▸\";float: left;margin-right: 0.25em;color: #696969;}#sk-container-id-2 label.sk-toggleable__label-arrow:hover:before {color: black;}#sk-container-id-2 div.sk-estimator:hover label.sk-toggleable__label-arrow:before {color: black;}#sk-container-id-2 div.sk-toggleable__content {max-height: 0;max-width: 0;overflow: hidden;text-align: left;background-color: #f0f8ff;}#sk-container-id-2 div.sk-toggleable__content pre {margin: 0.2em;color: black;border-radius: 0.25em;background-color: #f0f8ff;}#sk-container-id-2 input.sk-toggleable__control:checked~div.sk-toggleable__content {max-height: 200px;max-width: 100%;overflow: auto;}#sk-container-id-2 input.sk-toggleable__control:checked~label.sk-toggleable__label-arrow:before {content: \"▾\";}#sk-container-id-2 div.sk-estimator input.sk-toggleable__control:checked~label.sk-toggleable__label {background-color: #d4ebff;}#sk-container-id-2 div.sk-label input.sk-toggleable__control:checked~label.sk-toggleable__label {background-color: #d4ebff;}#sk-container-id-2 input.sk-hidden--visually {border: 0;clip: rect(1px 1px 1px 1px);clip: rect(1px, 1px, 1px, 1px);height: 1px;margin: -1px;overflow: hidden;padding: 0;position: absolute;width: 1px;}#sk-container-id-2 div.sk-estimator {font-family: monospace;background-color: #f0f8ff;border: 1px dotted black;border-radius: 0.25em;box-sizing: border-box;margin-bottom: 0.5em;}#sk-container-id-2 div.sk-estimator:hover {background-color: #d4ebff;}#sk-container-id-2 div.sk-parallel-item::after {content: \"\";width: 100%;border-bottom: 1px solid gray;flex-grow: 1;}#sk-container-id-2 div.sk-label:hover label.sk-toggleable__label {background-color: #d4ebff;}#sk-container-id-2 div.sk-serial::before {content: \"\";position: absolute;border-left: 1px solid gray;box-sizing: border-box;top: 0;bottom: 0;left: 50%;z-index: 0;}#sk-container-id-2 div.sk-serial {display: flex;flex-direction: column;align-items: center;background-color: white;padding-right: 0.2em;padding-left: 0.2em;position: relative;}#sk-container-id-2 div.sk-item {position: relative;z-index: 1;}#sk-container-id-2 div.sk-parallel {display: flex;align-items: stretch;justify-content: center;background-color: white;position: relative;}#sk-container-id-2 div.sk-item::before, #sk-container-id-2 div.sk-parallel-item::before {content: \"\";position: absolute;border-left: 1px solid gray;box-sizing: border-box;top: 0;bottom: 0;left: 50%;z-index: -1;}#sk-container-id-2 div.sk-parallel-item {display: flex;flex-direction: column;z-index: 1;position: relative;background-color: white;}#sk-container-id-2 div.sk-parallel-item:first-child::after {align-self: flex-end;width: 50%;}#sk-container-id-2 div.sk-parallel-item:last-child::after {align-self: flex-start;width: 50%;}#sk-container-id-2 div.sk-parallel-item:only-child::after {width: 0;}#sk-container-id-2 div.sk-dashed-wrapped {border: 1px dashed gray;margin: 0 0.4em 0.5em 0.4em;box-sizing: border-box;padding-bottom: 0.4em;background-color: white;}#sk-container-id-2 div.sk-label label {font-family: monospace;font-weight: bold;display: inline-block;line-height: 1.2em;}#sk-container-id-2 div.sk-label-container {text-align: center;}#sk-container-id-2 div.sk-container {/* jupyter's `normalize.less` sets `[hidden] { display: none; }` but bootstrap.min.css set `[hidden] { display: none !important; }` so we also need the `!important` here to be able to override the default hidden behavior on the sphinx rendered scikit-learn.org. See: https://github.com/scikit-learn/scikit-learn/issues/21755 */display: inline-block !important;position: relative;}#sk-container-id-2 div.sk-text-repr-fallback {display: none;}</style><div id=\"sk-container-id-2\" class=\"sk-top-container\"><div class=\"sk-text-repr-fallback\"><pre>DecisionTreeClassifier(criterion=&#x27;entropy&#x27;)</pre><b>In a Jupyter environment, please rerun this cell to show the HTML representation or trust the notebook. <br />On GitHub, the HTML representation is unable to render, please try loading this page with nbviewer.org.</b></div><div class=\"sk-container\" hidden><div class=\"sk-item\"><div class=\"sk-estimator sk-toggleable\"><input class=\"sk-toggleable__control sk-hidden--visually\" id=\"sk-estimator-id-2\" type=\"checkbox\" checked><label for=\"sk-estimator-id-2\" class=\"sk-toggleable__label sk-toggleable__label-arrow\">DecisionTreeClassifier</label><div class=\"sk-toggleable__content\"><pre>DecisionTreeClassifier(criterion=&#x27;entropy&#x27;)</pre></div></div></div></div></div>"
      ],
      "text/plain": [
       "DecisionTreeClassifier(criterion='entropy')"
      ]
     },
     "execution_count": 41,
     "metadata": {},
     "output_type": "execute_result"
    }
   ],
   "source": [
    "DT_class = DecisionTreeClassifier(criterion = 'entropy')\n",
    "DT_class.fit(x_train, y_train)"
   ]
  },
  {
   "cell_type": "code",
   "execution_count": 42,
   "id": "ba19ad34",
   "metadata": {},
   "outputs": [
    {
     "name": "stdout",
     "output_type": "stream",
     "text": [
      "      y_predicted  y_test\n",
      "4417            2       2\n",
      "4852            2       2\n",
      "176             0       0\n",
      "3541            3       1\n",
      "6253            3       3\n",
      "3192            1       1\n",
      "1727            0       0\n",
      "5933            3       2\n",
      "7847            3       3\n",
      "6532            3       3\n"
     ]
    }
   ],
   "source": [
    "y_predicted = DT_class.predict(x_test)\n",
    "print(pd.DataFrame({\"y_predicted\": y_predicted, \"y_test\":y_test}).head(10))"
   ]
  },
  {
   "cell_type": "code",
   "execution_count": 43,
   "id": "9a45bae0",
   "metadata": {},
   "outputs": [
    {
     "name": "stdout",
     "output_type": "stream",
     "text": [
      "Confusion Matrix: \n",
      "[[583   8   1   8]\n",
      " [  5 516  27  52]\n",
      " [  0  24 503  73]\n",
      " [  7  29  48 516]] \n",
      "\n"
     ]
    }
   ],
   "source": [
    "#đánh giá mô hình\n",
    "print(\"Confusion Matrix: \")\n",
    "print (confusion_matrix(y_test, y_predicted, labels =[0,1,2,3]),'\\n')"
   ]
  },
  {
   "cell_type": "code",
   "execution_count": 44,
   "id": "41b65c7d",
   "metadata": {},
   "outputs": [
    {
     "name": "stdout",
     "output_type": "stream",
     "text": [
      "Accurate Score: \n",
      "88.25\n"
     ]
    }
   ],
   "source": [
    "acc = accuracy_score(y_test, y_predicted)*100\n",
    "print ('Accurate Score: ')\n",
    "print (acc)"
   ]
  },
  {
   "cell_type": "code",
   "execution_count": 45,
   "id": "868b556d",
   "metadata": {},
   "outputs": [
    {
     "name": "stdout",
     "output_type": "stream",
     "text": [
      "Precision\n",
      "[97.98319328 89.42807626 86.87392055 79.50693374] \n",
      "\n"
     ]
    }
   ],
   "source": [
    "print ('Precision')\n",
    "print(precision_score(y_test, y_predicted, labels =[0,1,2,3], average = None)*100, '\\n')\n",
    "#Precision của 0 là: 97,98\n",
    "#Precision của 1 là: 99,42\n",
    "#Precision của 2 là: 86,87\n",
    "#Precision của 3 là: 79,5"
   ]
  },
  {
   "cell_type": "code",
   "execution_count": 46,
   "id": "1e94a0f6",
   "metadata": {},
   "outputs": [
    {
     "name": "stdout",
     "output_type": "stream",
     "text": [
      "Recall score: \n",
      "[0.97166667 0.86       0.83833333 0.86      ] \n",
      "\n"
     ]
    }
   ],
   "source": [
    "print ('Recall score: ')\n",
    "print(recall_score(y_test, y_predicted, labels =[0,1,2,3], average = None), '\\n')\n",
    "#Recall score của 0 là: 0,97\n",
    "#Recall score của 1 là: 0,86\n",
    "#Recall score 2 là: 0,84\n",
    "#Recall score 3 là: 0,86"
   ]
  },
  {
   "cell_type": "code",
   "execution_count": 47,
   "id": "3c671437",
   "metadata": {},
   "outputs": [
    {
     "name": "stdout",
     "output_type": "stream",
     "text": [
      "F1 score: \n",
      "[97.57322176 87.68054376 85.32654792 82.62610088] \n",
      "\n"
     ]
    }
   ],
   "source": [
    "print ('F1 score: ')\n",
    "print(f1_score(y_test, y_predicted, labels =[0,1,2,3], average = None)*100, '\\n')\n",
    "#F1 score của 0 là: 97,57\n",
    "#F1 score của 1 là: 87,68\n",
    "#F1 score của 2 là: 85,33\n",
    "#F1 score của 3 là: 82,63"
   ]
  },
  {
   "cell_type": "code",
   "execution_count": 48,
   "id": "66e45ad4",
   "metadata": {},
   "outputs": [
    {
     "name": "stdout",
     "output_type": "stream",
     "text": [
      "              precision    recall  f1-score   support\n",
      "\n",
      "           0       0.98      0.97      0.98       600\n",
      "           1       0.89      0.86      0.88       600\n",
      "           2       0.87      0.84      0.85       600\n",
      "           3       0.80      0.86      0.83       600\n",
      "\n",
      "    accuracy                           0.88      2400\n",
      "   macro avg       0.88      0.88      0.88      2400\n",
      "weighted avg       0.88      0.88      0.88      2400\n",
      "\n"
     ]
    }
   ],
   "source": [
    "print(classification_report(y_test, y_predicted))"
   ]
  },
  {
   "cell_type": "markdown",
   "id": "1250357c",
   "metadata": {},
   "source": [
    "## DT Naive Bayes (GaussianNB)"
   ]
  },
  {
   "cell_type": "code",
   "execution_count": 52,
   "id": "1e2416bd",
   "metadata": {},
   "outputs": [
    {
     "data": {
      "text/html": [
       "<style>#sk-container-id-3 {color: black;background-color: white;}#sk-container-id-3 pre{padding: 0;}#sk-container-id-3 div.sk-toggleable {background-color: white;}#sk-container-id-3 label.sk-toggleable__label {cursor: pointer;display: block;width: 100%;margin-bottom: 0;padding: 0.3em;box-sizing: border-box;text-align: center;}#sk-container-id-3 label.sk-toggleable__label-arrow:before {content: \"▸\";float: left;margin-right: 0.25em;color: #696969;}#sk-container-id-3 label.sk-toggleable__label-arrow:hover:before {color: black;}#sk-container-id-3 div.sk-estimator:hover label.sk-toggleable__label-arrow:before {color: black;}#sk-container-id-3 div.sk-toggleable__content {max-height: 0;max-width: 0;overflow: hidden;text-align: left;background-color: #f0f8ff;}#sk-container-id-3 div.sk-toggleable__content pre {margin: 0.2em;color: black;border-radius: 0.25em;background-color: #f0f8ff;}#sk-container-id-3 input.sk-toggleable__control:checked~div.sk-toggleable__content {max-height: 200px;max-width: 100%;overflow: auto;}#sk-container-id-3 input.sk-toggleable__control:checked~label.sk-toggleable__label-arrow:before {content: \"▾\";}#sk-container-id-3 div.sk-estimator input.sk-toggleable__control:checked~label.sk-toggleable__label {background-color: #d4ebff;}#sk-container-id-3 div.sk-label input.sk-toggleable__control:checked~label.sk-toggleable__label {background-color: #d4ebff;}#sk-container-id-3 input.sk-hidden--visually {border: 0;clip: rect(1px 1px 1px 1px);clip: rect(1px, 1px, 1px, 1px);height: 1px;margin: -1px;overflow: hidden;padding: 0;position: absolute;width: 1px;}#sk-container-id-3 div.sk-estimator {font-family: monospace;background-color: #f0f8ff;border: 1px dotted black;border-radius: 0.25em;box-sizing: border-box;margin-bottom: 0.5em;}#sk-container-id-3 div.sk-estimator:hover {background-color: #d4ebff;}#sk-container-id-3 div.sk-parallel-item::after {content: \"\";width: 100%;border-bottom: 1px solid gray;flex-grow: 1;}#sk-container-id-3 div.sk-label:hover label.sk-toggleable__label {background-color: #d4ebff;}#sk-container-id-3 div.sk-serial::before {content: \"\";position: absolute;border-left: 1px solid gray;box-sizing: border-box;top: 0;bottom: 0;left: 50%;z-index: 0;}#sk-container-id-3 div.sk-serial {display: flex;flex-direction: column;align-items: center;background-color: white;padding-right: 0.2em;padding-left: 0.2em;position: relative;}#sk-container-id-3 div.sk-item {position: relative;z-index: 1;}#sk-container-id-3 div.sk-parallel {display: flex;align-items: stretch;justify-content: center;background-color: white;position: relative;}#sk-container-id-3 div.sk-item::before, #sk-container-id-3 div.sk-parallel-item::before {content: \"\";position: absolute;border-left: 1px solid gray;box-sizing: border-box;top: 0;bottom: 0;left: 50%;z-index: -1;}#sk-container-id-3 div.sk-parallel-item {display: flex;flex-direction: column;z-index: 1;position: relative;background-color: white;}#sk-container-id-3 div.sk-parallel-item:first-child::after {align-self: flex-end;width: 50%;}#sk-container-id-3 div.sk-parallel-item:last-child::after {align-self: flex-start;width: 50%;}#sk-container-id-3 div.sk-parallel-item:only-child::after {width: 0;}#sk-container-id-3 div.sk-dashed-wrapped {border: 1px dashed gray;margin: 0 0.4em 0.5em 0.4em;box-sizing: border-box;padding-bottom: 0.4em;background-color: white;}#sk-container-id-3 div.sk-label label {font-family: monospace;font-weight: bold;display: inline-block;line-height: 1.2em;}#sk-container-id-3 div.sk-label-container {text-align: center;}#sk-container-id-3 div.sk-container {/* jupyter's `normalize.less` sets `[hidden] { display: none; }` but bootstrap.min.css set `[hidden] { display: none !important; }` so we also need the `!important` here to be able to override the default hidden behavior on the sphinx rendered scikit-learn.org. See: https://github.com/scikit-learn/scikit-learn/issues/21755 */display: inline-block !important;position: relative;}#sk-container-id-3 div.sk-text-repr-fallback {display: none;}</style><div id=\"sk-container-id-3\" class=\"sk-top-container\"><div class=\"sk-text-repr-fallback\"><pre>GaussianNB()</pre><b>In a Jupyter environment, please rerun this cell to show the HTML representation or trust the notebook. <br />On GitHub, the HTML representation is unable to render, please try loading this page with nbviewer.org.</b></div><div class=\"sk-container\" hidden><div class=\"sk-item\"><div class=\"sk-estimator sk-toggleable\"><input class=\"sk-toggleable__control sk-hidden--visually\" id=\"sk-estimator-id-3\" type=\"checkbox\" checked><label for=\"sk-estimator-id-3\" class=\"sk-toggleable__label sk-toggleable__label-arrow\">GaussianNB</label><div class=\"sk-toggleable__content\"><pre>GaussianNB()</pre></div></div></div></div></div>"
      ],
      "text/plain": [
       "GaussianNB()"
      ]
     },
     "execution_count": 52,
     "metadata": {},
     "output_type": "execute_result"
    }
   ],
   "source": [
    "from sklearn.naive_bayes import GaussianNB\n",
    "gnb_class = GaussianNB()\n",
    "gnb_class.fit(x_train, y_train)"
   ]
  },
  {
   "cell_type": "code",
   "execution_count": 53,
   "id": "cc4927da",
   "metadata": {},
   "outputs": [
    {
     "name": "stdout",
     "output_type": "stream",
     "text": [
      "      y_predicted  y_test\n",
      "4417            3       2\n",
      "4852            2       2\n",
      "176             0       0\n",
      "3541            2       1\n",
      "6253            2       3\n",
      "3192            1       1\n",
      "1727            0       0\n",
      "5933            3       2\n",
      "7847            3       3\n",
      "6532            2       3\n"
     ]
    }
   ],
   "source": [
    "y_predicted = gnb_class.predict(x_test)\n",
    "print(pd.DataFrame({\"y_predicted\": y_predicted, \"y_test\":y_test}).head(10))"
   ]
  },
  {
   "cell_type": "code",
   "execution_count": 54,
   "id": "ff2e6fe7",
   "metadata": {},
   "outputs": [
    {
     "name": "stdout",
     "output_type": "stream",
     "text": [
      "              precision    recall  f1-score   support\n",
      "\n",
      "           0       0.96      0.95      0.95       600\n",
      "           1       0.70      0.58      0.64       600\n",
      "           2       0.65      0.84      0.73       600\n",
      "           3       0.54      0.48      0.51       600\n",
      "\n",
      "    accuracy                           0.71      2400\n",
      "   macro avg       0.71      0.71      0.71      2400\n",
      "weighted avg       0.71      0.71      0.71      2400\n",
      "\n"
     ]
    }
   ],
   "source": [
    "print(classification_report(y_test, y_predicted))"
   ]
  },
  {
   "cell_type": "code",
   "execution_count": null,
   "id": "b70fcb93",
   "metadata": {},
   "outputs": [],
   "source": []
  }
 ],
 "metadata": {
  "kernelspec": {
   "display_name": "Python 3 (ipykernel)",
   "language": "python",
   "name": "python3"
  },
  "language_info": {
   "codemirror_mode": {
    "name": "ipython",
    "version": 3
   },
   "file_extension": ".py",
   "mimetype": "text/x-python",
   "name": "python",
   "nbconvert_exporter": "python",
   "pygments_lexer": "ipython3",
   "version": "3.10.9"
  }
 },
 "nbformat": 4,
 "nbformat_minor": 5
}
