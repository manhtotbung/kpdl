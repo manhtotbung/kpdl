{
 "cells": [
  {
   "cell_type": "code",
   "execution_count": 178,
   "id": "054a66ee",
   "metadata": {},
   "outputs": [],
   "source": [
    "import pandas as pd\n",
    "import numpy as np\n",
    "from sklearn.model_selection import train_test_split\n",
    "from sklearn.neighbors import KNeighborsRegressor"
   ]
  },
  {
   "cell_type": "code",
   "execution_count": 179,
   "id": "f0bf0128",
   "metadata": {},
   "outputs": [
    {
     "data": {
      "text/html": [
       "<div>\n",
       "<style scoped>\n",
       "    .dataframe tbody tr th:only-of-type {\n",
       "        vertical-align: middle;\n",
       "    }\n",
       "\n",
       "    .dataframe tbody tr th {\n",
       "        vertical-align: top;\n",
       "    }\n",
       "\n",
       "    .dataframe thead th {\n",
       "        text-align: right;\n",
       "    }\n",
       "</style>\n",
       "<table border=\"1\" class=\"dataframe\">\n",
       "  <thead>\n",
       "    <tr style=\"text-align: right;\">\n",
       "      <th></th>\n",
       "      <th>Company</th>\n",
       "      <th>TypeName</th>\n",
       "      <th>Inches</th>\n",
       "      <th>Ram</th>\n",
       "      <th>Weight</th>\n",
       "      <th>Price_euros</th>\n",
       "    </tr>\n",
       "  </thead>\n",
       "  <tbody>\n",
       "    <tr>\n",
       "      <th>0</th>\n",
       "      <td>Apple</td>\n",
       "      <td>Ultrabook</td>\n",
       "      <td>13.3</td>\n",
       "      <td>8GB</td>\n",
       "      <td>1.37kg</td>\n",
       "      <td>1339.69</td>\n",
       "    </tr>\n",
       "    <tr>\n",
       "      <th>1</th>\n",
       "      <td>Apple</td>\n",
       "      <td>Ultrabook</td>\n",
       "      <td>13.3</td>\n",
       "      <td>8GB</td>\n",
       "      <td>1.34kg</td>\n",
       "      <td>898.94</td>\n",
       "    </tr>\n",
       "    <tr>\n",
       "      <th>2</th>\n",
       "      <td>Apple</td>\n",
       "      <td>Ultrabook</td>\n",
       "      <td>15.6</td>\n",
       "      <td>8GB</td>\n",
       "      <td>1.86kg</td>\n",
       "      <td>575.00</td>\n",
       "    </tr>\n",
       "    <tr>\n",
       "      <th>3</th>\n",
       "      <td>Apple</td>\n",
       "      <td>Ultrabook</td>\n",
       "      <td>15.4</td>\n",
       "      <td>16GB</td>\n",
       "      <td>1.83kg</td>\n",
       "      <td>2537.45</td>\n",
       "    </tr>\n",
       "    <tr>\n",
       "      <th>4</th>\n",
       "      <td>Apple</td>\n",
       "      <td>Ultrabook</td>\n",
       "      <td>13.3</td>\n",
       "      <td>8GB</td>\n",
       "      <td>1.37kg</td>\n",
       "      <td>1803.60</td>\n",
       "    </tr>\n",
       "    <tr>\n",
       "      <th>...</th>\n",
       "      <td>...</td>\n",
       "      <td>...</td>\n",
       "      <td>...</td>\n",
       "      <td>...</td>\n",
       "      <td>...</td>\n",
       "      <td>...</td>\n",
       "    </tr>\n",
       "    <tr>\n",
       "      <th>553</th>\n",
       "      <td>Apple</td>\n",
       "      <td>Notebook</td>\n",
       "      <td>17.3</td>\n",
       "      <td>8GB</td>\n",
       "      <td>2.65kg</td>\n",
       "      <td>544.15</td>\n",
       "    </tr>\n",
       "    <tr>\n",
       "      <th>554</th>\n",
       "      <td>Apple</td>\n",
       "      <td>Notebook</td>\n",
       "      <td>17.3</td>\n",
       "      <td>8GB</td>\n",
       "      <td>2.63kg</td>\n",
       "      <td>1280.00</td>\n",
       "    </tr>\n",
       "    <tr>\n",
       "      <th>555</th>\n",
       "      <td>Apple</td>\n",
       "      <td>Notebook</td>\n",
       "      <td>15.6</td>\n",
       "      <td>4GB</td>\n",
       "      <td>2kg</td>\n",
       "      <td>224.00</td>\n",
       "    </tr>\n",
       "    <tr>\n",
       "      <th>556</th>\n",
       "      <td>Apple</td>\n",
       "      <td>Notebook</td>\n",
       "      <td>13.3</td>\n",
       "      <td>4GB</td>\n",
       "      <td>1.35kg</td>\n",
       "      <td>255.00</td>\n",
       "    </tr>\n",
       "    <tr>\n",
       "      <th>557</th>\n",
       "      <td>Apple</td>\n",
       "      <td>Notebook</td>\n",
       "      <td>17.3</td>\n",
       "      <td>6GB</td>\n",
       "      <td>2.8kg</td>\n",
       "      <td>949.00</td>\n",
       "    </tr>\n",
       "  </tbody>\n",
       "</table>\n",
       "<p>558 rows × 6 columns</p>\n",
       "</div>"
      ],
      "text/plain": [
       "    Company   TypeName  Inches   Ram  Weight  Price_euros\n",
       "0     Apple  Ultrabook    13.3   8GB  1.37kg      1339.69\n",
       "1     Apple  Ultrabook    13.3   8GB  1.34kg       898.94\n",
       "2     Apple  Ultrabook    15.6   8GB  1.86kg       575.00\n",
       "3     Apple  Ultrabook    15.4  16GB  1.83kg      2537.45\n",
       "4     Apple  Ultrabook    13.3   8GB  1.37kg      1803.60\n",
       "..      ...        ...     ...   ...     ...          ...\n",
       "553   Apple   Notebook    17.3   8GB  2.65kg       544.15\n",
       "554   Apple   Notebook    17.3   8GB  2.63kg      1280.00\n",
       "555   Apple   Notebook    15.6   4GB     2kg       224.00\n",
       "556   Apple   Notebook    13.3   4GB  1.35kg       255.00\n",
       "557   Apple   Notebook    17.3   6GB   2.8kg       949.00\n",
       "\n",
       "[558 rows x 6 columns]"
      ]
     },
     "execution_count": 179,
     "metadata": {},
     "output_type": "execute_result"
    }
   ],
   "source": [
    "df = pd.read_excel(r\"LaptopPrice.xlsx\")\n",
    "df"
   ]
  },
  {
   "cell_type": "code",
   "execution_count": 180,
   "id": "072245f3",
   "metadata": {},
   "outputs": [
    {
     "data": {
      "text/html": [
       "<div>\n",
       "<style scoped>\n",
       "    .dataframe tbody tr th:only-of-type {\n",
       "        vertical-align: middle;\n",
       "    }\n",
       "\n",
       "    .dataframe tbody tr th {\n",
       "        vertical-align: top;\n",
       "    }\n",
       "\n",
       "    .dataframe thead th {\n",
       "        text-align: right;\n",
       "    }\n",
       "</style>\n",
       "<table border=\"1\" class=\"dataframe\">\n",
       "  <thead>\n",
       "    <tr style=\"text-align: right;\">\n",
       "      <th></th>\n",
       "      <th>Company</th>\n",
       "      <th>TypeName</th>\n",
       "      <th>Inches</th>\n",
       "      <th>Ram</th>\n",
       "      <th>Weight</th>\n",
       "      <th>Price_euros</th>\n",
       "    </tr>\n",
       "  </thead>\n",
       "  <tbody>\n",
       "    <tr>\n",
       "      <th>0</th>\n",
       "      <td>Apple</td>\n",
       "      <td>Ultrabook</td>\n",
       "      <td>13.3</td>\n",
       "      <td>8GB</td>\n",
       "      <td>1.37kg</td>\n",
       "      <td>1339.69</td>\n",
       "    </tr>\n",
       "    <tr>\n",
       "      <th>1</th>\n",
       "      <td>Apple</td>\n",
       "      <td>Ultrabook</td>\n",
       "      <td>13.3</td>\n",
       "      <td>8GB</td>\n",
       "      <td>1.34kg</td>\n",
       "      <td>898.94</td>\n",
       "    </tr>\n",
       "    <tr>\n",
       "      <th>2</th>\n",
       "      <td>Apple</td>\n",
       "      <td>Ultrabook</td>\n",
       "      <td>15.6</td>\n",
       "      <td>8GB</td>\n",
       "      <td>1.86kg</td>\n",
       "      <td>575.00</td>\n",
       "    </tr>\n",
       "    <tr>\n",
       "      <th>3</th>\n",
       "      <td>Apple</td>\n",
       "      <td>Ultrabook</td>\n",
       "      <td>15.4</td>\n",
       "      <td>16GB</td>\n",
       "      <td>1.83kg</td>\n",
       "      <td>2537.45</td>\n",
       "    </tr>\n",
       "    <tr>\n",
       "      <th>4</th>\n",
       "      <td>Apple</td>\n",
       "      <td>Ultrabook</td>\n",
       "      <td>13.3</td>\n",
       "      <td>8GB</td>\n",
       "      <td>1.37kg</td>\n",
       "      <td>1803.60</td>\n",
       "    </tr>\n",
       "    <tr>\n",
       "      <th>5</th>\n",
       "      <td>Apple</td>\n",
       "      <td>Ultrabook</td>\n",
       "      <td>15.6</td>\n",
       "      <td>4GB</td>\n",
       "      <td>2.1kg</td>\n",
       "      <td>400.00</td>\n",
       "    </tr>\n",
       "    <tr>\n",
       "      <th>6</th>\n",
       "      <td>Apple</td>\n",
       "      <td>Ultrabook</td>\n",
       "      <td>15.4</td>\n",
       "      <td>16GB</td>\n",
       "      <td>2.04kg</td>\n",
       "      <td>2139.97</td>\n",
       "    </tr>\n",
       "    <tr>\n",
       "      <th>7</th>\n",
       "      <td>Apple</td>\n",
       "      <td>Ultrabook</td>\n",
       "      <td>13.3</td>\n",
       "      <td>8GB</td>\n",
       "      <td>1.34kg</td>\n",
       "      <td>1158.70</td>\n",
       "    </tr>\n",
       "    <tr>\n",
       "      <th>8</th>\n",
       "      <td>Apple</td>\n",
       "      <td>Ultrabook</td>\n",
       "      <td>14.0</td>\n",
       "      <td>16GB</td>\n",
       "      <td>1.3kg</td>\n",
       "      <td>1495.00</td>\n",
       "    </tr>\n",
       "    <tr>\n",
       "      <th>9</th>\n",
       "      <td>Apple</td>\n",
       "      <td>Ultrabook</td>\n",
       "      <td>14.0</td>\n",
       "      <td>8GB</td>\n",
       "      <td>1.6kg</td>\n",
       "      <td>770.00</td>\n",
       "    </tr>\n",
       "  </tbody>\n",
       "</table>\n",
       "</div>"
      ],
      "text/plain": [
       "  Company   TypeName  Inches   Ram  Weight  Price_euros\n",
       "0   Apple  Ultrabook    13.3   8GB  1.37kg      1339.69\n",
       "1   Apple  Ultrabook    13.3   8GB  1.34kg       898.94\n",
       "2   Apple  Ultrabook    15.6   8GB  1.86kg       575.00\n",
       "3   Apple  Ultrabook    15.4  16GB  1.83kg      2537.45\n",
       "4   Apple  Ultrabook    13.3   8GB  1.37kg      1803.60\n",
       "5   Apple  Ultrabook    15.6   4GB   2.1kg       400.00\n",
       "6   Apple  Ultrabook    15.4  16GB  2.04kg      2139.97\n",
       "7   Apple  Ultrabook    13.3   8GB  1.34kg      1158.70\n",
       "8   Apple  Ultrabook    14.0  16GB   1.3kg      1495.00\n",
       "9   Apple  Ultrabook    14.0   8GB   1.6kg       770.00"
      ]
     },
     "execution_count": 180,
     "metadata": {},
     "output_type": "execute_result"
    }
   ],
   "source": [
    "df.head(10)"
   ]
  },
  {
   "cell_type": "code",
   "execution_count": 181,
   "id": "fddd79be",
   "metadata": {},
   "outputs": [
    {
     "name": "stdout",
     "output_type": "stream",
     "text": [
      "<class 'pandas.core.frame.DataFrame'>\n",
      "RangeIndex: 558 entries, 0 to 557\n",
      "Data columns (total 6 columns):\n",
      " #   Column       Non-Null Count  Dtype  \n",
      "---  ------       --------------  -----  \n",
      " 0   Company      558 non-null    object \n",
      " 1   TypeName     558 non-null    object \n",
      " 2   Inches       558 non-null    float64\n",
      " 3   Ram          558 non-null    object \n",
      " 4   Weight       558 non-null    object \n",
      " 5   Price_euros  558 non-null    float64\n",
      "dtypes: float64(2), object(4)\n",
      "memory usage: 26.3+ KB\n"
     ]
    }
   ],
   "source": [
    "df.info()"
   ]
  },
  {
   "cell_type": "code",
   "execution_count": 182,
   "id": "4428c0c8",
   "metadata": {},
   "outputs": [
    {
     "data": {
      "text/html": [
       "<div>\n",
       "<style scoped>\n",
       "    .dataframe tbody tr th:only-of-type {\n",
       "        vertical-align: middle;\n",
       "    }\n",
       "\n",
       "    .dataframe tbody tr th {\n",
       "        vertical-align: top;\n",
       "    }\n",
       "\n",
       "    .dataframe thead th {\n",
       "        text-align: right;\n",
       "    }\n",
       "</style>\n",
       "<table border=\"1\" class=\"dataframe\">\n",
       "  <thead>\n",
       "    <tr style=\"text-align: right;\">\n",
       "      <th></th>\n",
       "      <th>Company</th>\n",
       "      <th>TypeName</th>\n",
       "      <th>Inches</th>\n",
       "      <th>Ram</th>\n",
       "      <th>Weight</th>\n",
       "      <th>Price_euros</th>\n",
       "    </tr>\n",
       "  </thead>\n",
       "  <tbody>\n",
       "    <tr>\n",
       "      <th>0</th>\n",
       "      <td>Apple</td>\n",
       "      <td>Ultrabook</td>\n",
       "      <td>13.3</td>\n",
       "      <td>8</td>\n",
       "      <td>1.37</td>\n",
       "      <td>1339.69</td>\n",
       "    </tr>\n",
       "    <tr>\n",
       "      <th>1</th>\n",
       "      <td>Apple</td>\n",
       "      <td>Ultrabook</td>\n",
       "      <td>13.3</td>\n",
       "      <td>8</td>\n",
       "      <td>1.34</td>\n",
       "      <td>898.94</td>\n",
       "    </tr>\n",
       "    <tr>\n",
       "      <th>2</th>\n",
       "      <td>Apple</td>\n",
       "      <td>Ultrabook</td>\n",
       "      <td>15.6</td>\n",
       "      <td>8</td>\n",
       "      <td>1.86</td>\n",
       "      <td>575.00</td>\n",
       "    </tr>\n",
       "    <tr>\n",
       "      <th>3</th>\n",
       "      <td>Apple</td>\n",
       "      <td>Ultrabook</td>\n",
       "      <td>15.4</td>\n",
       "      <td>16</td>\n",
       "      <td>1.83</td>\n",
       "      <td>2537.45</td>\n",
       "    </tr>\n",
       "    <tr>\n",
       "      <th>4</th>\n",
       "      <td>Apple</td>\n",
       "      <td>Ultrabook</td>\n",
       "      <td>13.3</td>\n",
       "      <td>8</td>\n",
       "      <td>1.37</td>\n",
       "      <td>1803.60</td>\n",
       "    </tr>\n",
       "    <tr>\n",
       "      <th>...</th>\n",
       "      <td>...</td>\n",
       "      <td>...</td>\n",
       "      <td>...</td>\n",
       "      <td>...</td>\n",
       "      <td>...</td>\n",
       "      <td>...</td>\n",
       "    </tr>\n",
       "    <tr>\n",
       "      <th>553</th>\n",
       "      <td>Apple</td>\n",
       "      <td>Notebook</td>\n",
       "      <td>17.3</td>\n",
       "      <td>8</td>\n",
       "      <td>2.65</td>\n",
       "      <td>544.15</td>\n",
       "    </tr>\n",
       "    <tr>\n",
       "      <th>554</th>\n",
       "      <td>Apple</td>\n",
       "      <td>Notebook</td>\n",
       "      <td>17.3</td>\n",
       "      <td>8</td>\n",
       "      <td>2.63</td>\n",
       "      <td>1280.00</td>\n",
       "    </tr>\n",
       "    <tr>\n",
       "      <th>555</th>\n",
       "      <td>Apple</td>\n",
       "      <td>Notebook</td>\n",
       "      <td>15.6</td>\n",
       "      <td>4</td>\n",
       "      <td>2</td>\n",
       "      <td>224.00</td>\n",
       "    </tr>\n",
       "    <tr>\n",
       "      <th>556</th>\n",
       "      <td>Apple</td>\n",
       "      <td>Notebook</td>\n",
       "      <td>13.3</td>\n",
       "      <td>4</td>\n",
       "      <td>1.35</td>\n",
       "      <td>255.00</td>\n",
       "    </tr>\n",
       "    <tr>\n",
       "      <th>557</th>\n",
       "      <td>Apple</td>\n",
       "      <td>Notebook</td>\n",
       "      <td>17.3</td>\n",
       "      <td>6</td>\n",
       "      <td>2.8</td>\n",
       "      <td>949.00</td>\n",
       "    </tr>\n",
       "  </tbody>\n",
       "</table>\n",
       "<p>558 rows × 6 columns</p>\n",
       "</div>"
      ],
      "text/plain": [
       "    Company   TypeName  Inches Ram Weight  Price_euros\n",
       "0     Apple  Ultrabook    13.3   8   1.37      1339.69\n",
       "1     Apple  Ultrabook    13.3   8   1.34       898.94\n",
       "2     Apple  Ultrabook    15.6   8   1.86       575.00\n",
       "3     Apple  Ultrabook    15.4  16   1.83      2537.45\n",
       "4     Apple  Ultrabook    13.3   8   1.37      1803.60\n",
       "..      ...        ...     ...  ..    ...          ...\n",
       "553   Apple   Notebook    17.3   8   2.65       544.15\n",
       "554   Apple   Notebook    17.3   8   2.63      1280.00\n",
       "555   Apple   Notebook    15.6   4      2       224.00\n",
       "556   Apple   Notebook    13.3   4   1.35       255.00\n",
       "557   Apple   Notebook    17.3   6    2.8       949.00\n",
       "\n",
       "[558 rows x 6 columns]"
      ]
     },
     "execution_count": 182,
     "metadata": {},
     "output_type": "execute_result"
    }
   ],
   "source": [
    "df['Ram'] = df['Ram'].apply(lambda x: x.replace('GB',''))\n",
    "df['Weight'] = df['Weight'].apply(lambda x: x.replace('kg',''))\n",
    "df"
   ]
  },
  {
   "cell_type": "code",
   "execution_count": 183,
   "id": "2d338bad",
   "metadata": {},
   "outputs": [],
   "source": [
    "df['Ram'] = df['Ram'].astype(int)\n",
    "df['Inches'] = df['Inches'].astype(float)\n",
    "df['Weight'] = df['Weight'].astype(float)"
   ]
  },
  {
   "cell_type": "code",
   "execution_count": 184,
   "id": "1894a3f4",
   "metadata": {},
   "outputs": [
    {
     "data": {
      "text/plain": [
       "Dell      223\n",
       "Apple     163\n",
       "Lenovo     76\n",
       "Asus       74\n",
       "MSI        22\n",
       "Name: Company, dtype: int64"
      ]
     },
     "execution_count": 184,
     "metadata": {},
     "output_type": "execute_result"
    }
   ],
   "source": [
    "df['Company'].value_counts()"
   ]
  },
  {
   "cell_type": "code",
   "execution_count": 185,
   "id": "602816a4",
   "metadata": {},
   "outputs": [
    {
     "data": {
      "text/plain": [
       "Ultrabook    511\n",
       "Notebook      24\n",
       "Gaming        23\n",
       "Name: TypeName, dtype: int64"
      ]
     },
     "execution_count": 185,
     "metadata": {},
     "output_type": "execute_result"
    }
   ],
   "source": [
    "df['TypeName'].value_counts()"
   ]
  },
  {
   "cell_type": "code",
   "execution_count": 186,
   "id": "e4f143bd",
   "metadata": {},
   "outputs": [
    {
     "data": {
      "text/html": [
       "<div>\n",
       "<style scoped>\n",
       "    .dataframe tbody tr th:only-of-type {\n",
       "        vertical-align: middle;\n",
       "    }\n",
       "\n",
       "    .dataframe tbody tr th {\n",
       "        vertical-align: top;\n",
       "    }\n",
       "\n",
       "    .dataframe thead th {\n",
       "        text-align: right;\n",
       "    }\n",
       "</style>\n",
       "<table border=\"1\" class=\"dataframe\">\n",
       "  <thead>\n",
       "    <tr style=\"text-align: right;\">\n",
       "      <th></th>\n",
       "      <th>Company</th>\n",
       "      <th>TypeName</th>\n",
       "      <th>Inches</th>\n",
       "      <th>Ram</th>\n",
       "      <th>Weight</th>\n",
       "    </tr>\n",
       "  </thead>\n",
       "  <tbody>\n",
       "    <tr>\n",
       "      <th>0</th>\n",
       "      <td>Apple</td>\n",
       "      <td>Ultrabook</td>\n",
       "      <td>13.3</td>\n",
       "      <td>8</td>\n",
       "      <td>1.37</td>\n",
       "    </tr>\n",
       "    <tr>\n",
       "      <th>1</th>\n",
       "      <td>Apple</td>\n",
       "      <td>Ultrabook</td>\n",
       "      <td>13.3</td>\n",
       "      <td>8</td>\n",
       "      <td>1.34</td>\n",
       "    </tr>\n",
       "    <tr>\n",
       "      <th>2</th>\n",
       "      <td>Apple</td>\n",
       "      <td>Ultrabook</td>\n",
       "      <td>15.6</td>\n",
       "      <td>8</td>\n",
       "      <td>1.86</td>\n",
       "    </tr>\n",
       "    <tr>\n",
       "      <th>3</th>\n",
       "      <td>Apple</td>\n",
       "      <td>Ultrabook</td>\n",
       "      <td>15.4</td>\n",
       "      <td>16</td>\n",
       "      <td>1.83</td>\n",
       "    </tr>\n",
       "    <tr>\n",
       "      <th>4</th>\n",
       "      <td>Apple</td>\n",
       "      <td>Ultrabook</td>\n",
       "      <td>13.3</td>\n",
       "      <td>8</td>\n",
       "      <td>1.37</td>\n",
       "    </tr>\n",
       "    <tr>\n",
       "      <th>...</th>\n",
       "      <td>...</td>\n",
       "      <td>...</td>\n",
       "      <td>...</td>\n",
       "      <td>...</td>\n",
       "      <td>...</td>\n",
       "    </tr>\n",
       "    <tr>\n",
       "      <th>553</th>\n",
       "      <td>Apple</td>\n",
       "      <td>Notebook</td>\n",
       "      <td>17.3</td>\n",
       "      <td>8</td>\n",
       "      <td>2.65</td>\n",
       "    </tr>\n",
       "    <tr>\n",
       "      <th>554</th>\n",
       "      <td>Apple</td>\n",
       "      <td>Notebook</td>\n",
       "      <td>17.3</td>\n",
       "      <td>8</td>\n",
       "      <td>2.63</td>\n",
       "    </tr>\n",
       "    <tr>\n",
       "      <th>555</th>\n",
       "      <td>Apple</td>\n",
       "      <td>Notebook</td>\n",
       "      <td>15.6</td>\n",
       "      <td>4</td>\n",
       "      <td>2.00</td>\n",
       "    </tr>\n",
       "    <tr>\n",
       "      <th>556</th>\n",
       "      <td>Apple</td>\n",
       "      <td>Notebook</td>\n",
       "      <td>13.3</td>\n",
       "      <td>4</td>\n",
       "      <td>1.35</td>\n",
       "    </tr>\n",
       "    <tr>\n",
       "      <th>557</th>\n",
       "      <td>Apple</td>\n",
       "      <td>Notebook</td>\n",
       "      <td>17.3</td>\n",
       "      <td>6</td>\n",
       "      <td>2.80</td>\n",
       "    </tr>\n",
       "  </tbody>\n",
       "</table>\n",
       "<p>558 rows × 5 columns</p>\n",
       "</div>"
      ],
      "text/plain": [
       "    Company   TypeName  Inches  Ram  Weight\n",
       "0     Apple  Ultrabook    13.3    8    1.37\n",
       "1     Apple  Ultrabook    13.3    8    1.34\n",
       "2     Apple  Ultrabook    15.6    8    1.86\n",
       "3     Apple  Ultrabook    15.4   16    1.83\n",
       "4     Apple  Ultrabook    13.3    8    1.37\n",
       "..      ...        ...     ...  ...     ...\n",
       "553   Apple   Notebook    17.3    8    2.65\n",
       "554   Apple   Notebook    17.3    8    2.63\n",
       "555   Apple   Notebook    15.6    4    2.00\n",
       "556   Apple   Notebook    13.3    4    1.35\n",
       "557   Apple   Notebook    17.3    6    2.80\n",
       "\n",
       "[558 rows x 5 columns]"
      ]
     },
     "execution_count": 186,
     "metadata": {},
     "output_type": "execute_result"
    }
   ],
   "source": [
    "X = df.iloc[:,:-1]\n",
    "X"
   ]
  },
  {
   "cell_type": "code",
   "execution_count": 187,
   "id": "dad59e66",
   "metadata": {},
   "outputs": [
    {
     "data": {
      "text/plain": [
       "0      1339.69\n",
       "1       898.94\n",
       "2       575.00\n",
       "3      2537.45\n",
       "4      1803.60\n",
       "        ...   \n",
       "553     544.15\n",
       "554    1280.00\n",
       "555     224.00\n",
       "556     255.00\n",
       "557     949.00\n",
       "Name: Price_euros, Length: 558, dtype: float64"
      ]
     },
     "execution_count": 187,
     "metadata": {},
     "output_type": "execute_result"
    }
   ],
   "source": [
    "y = df.iloc[:,-1]\n",
    "y"
   ]
  },
  {
   "cell_type": "markdown",
   "id": "cbca4ad2",
   "metadata": {},
   "source": [
    "# tien xu ly du lieu"
   ]
  },
  {
   "cell_type": "code",
   "execution_count": 188,
   "id": "cf21b7cb",
   "metadata": {},
   "outputs": [
    {
     "data": {
      "text/html": [
       "<div>\n",
       "<style scoped>\n",
       "    .dataframe tbody tr th:only-of-type {\n",
       "        vertical-align: middle;\n",
       "    }\n",
       "\n",
       "    .dataframe tbody tr th {\n",
       "        vertical-align: top;\n",
       "    }\n",
       "\n",
       "    .dataframe thead th {\n",
       "        text-align: right;\n",
       "    }\n",
       "</style>\n",
       "<table border=\"1\" class=\"dataframe\">\n",
       "  <thead>\n",
       "    <tr style=\"text-align: right;\">\n",
       "      <th></th>\n",
       "      <th>Inches</th>\n",
       "      <th>Ram</th>\n",
       "      <th>Weight</th>\n",
       "      <th>Company_Asus</th>\n",
       "      <th>Company_Dell</th>\n",
       "      <th>Company_Lenovo</th>\n",
       "      <th>Company_MSI</th>\n",
       "      <th>TypeName_Notebook</th>\n",
       "      <th>TypeName_Ultrabook</th>\n",
       "    </tr>\n",
       "  </thead>\n",
       "  <tbody>\n",
       "    <tr>\n",
       "      <th>0</th>\n",
       "      <td>13.3</td>\n",
       "      <td>8</td>\n",
       "      <td>1.37</td>\n",
       "      <td>0</td>\n",
       "      <td>0</td>\n",
       "      <td>0</td>\n",
       "      <td>0</td>\n",
       "      <td>0</td>\n",
       "      <td>1</td>\n",
       "    </tr>\n",
       "    <tr>\n",
       "      <th>1</th>\n",
       "      <td>13.3</td>\n",
       "      <td>8</td>\n",
       "      <td>1.34</td>\n",
       "      <td>0</td>\n",
       "      <td>0</td>\n",
       "      <td>0</td>\n",
       "      <td>0</td>\n",
       "      <td>0</td>\n",
       "      <td>1</td>\n",
       "    </tr>\n",
       "    <tr>\n",
       "      <th>2</th>\n",
       "      <td>15.6</td>\n",
       "      <td>8</td>\n",
       "      <td>1.86</td>\n",
       "      <td>0</td>\n",
       "      <td>0</td>\n",
       "      <td>0</td>\n",
       "      <td>0</td>\n",
       "      <td>0</td>\n",
       "      <td>1</td>\n",
       "    </tr>\n",
       "    <tr>\n",
       "      <th>3</th>\n",
       "      <td>15.4</td>\n",
       "      <td>16</td>\n",
       "      <td>1.83</td>\n",
       "      <td>0</td>\n",
       "      <td>0</td>\n",
       "      <td>0</td>\n",
       "      <td>0</td>\n",
       "      <td>0</td>\n",
       "      <td>1</td>\n",
       "    </tr>\n",
       "    <tr>\n",
       "      <th>4</th>\n",
       "      <td>13.3</td>\n",
       "      <td>8</td>\n",
       "      <td>1.37</td>\n",
       "      <td>0</td>\n",
       "      <td>0</td>\n",
       "      <td>0</td>\n",
       "      <td>0</td>\n",
       "      <td>0</td>\n",
       "      <td>1</td>\n",
       "    </tr>\n",
       "    <tr>\n",
       "      <th>5</th>\n",
       "      <td>15.6</td>\n",
       "      <td>4</td>\n",
       "      <td>2.10</td>\n",
       "      <td>0</td>\n",
       "      <td>0</td>\n",
       "      <td>0</td>\n",
       "      <td>0</td>\n",
       "      <td>0</td>\n",
       "      <td>1</td>\n",
       "    </tr>\n",
       "    <tr>\n",
       "      <th>6</th>\n",
       "      <td>15.4</td>\n",
       "      <td>16</td>\n",
       "      <td>2.04</td>\n",
       "      <td>0</td>\n",
       "      <td>0</td>\n",
       "      <td>0</td>\n",
       "      <td>0</td>\n",
       "      <td>0</td>\n",
       "      <td>1</td>\n",
       "    </tr>\n",
       "    <tr>\n",
       "      <th>7</th>\n",
       "      <td>13.3</td>\n",
       "      <td>8</td>\n",
       "      <td>1.34</td>\n",
       "      <td>0</td>\n",
       "      <td>0</td>\n",
       "      <td>0</td>\n",
       "      <td>0</td>\n",
       "      <td>0</td>\n",
       "      <td>1</td>\n",
       "    </tr>\n",
       "    <tr>\n",
       "      <th>8</th>\n",
       "      <td>14.0</td>\n",
       "      <td>16</td>\n",
       "      <td>1.30</td>\n",
       "      <td>0</td>\n",
       "      <td>0</td>\n",
       "      <td>0</td>\n",
       "      <td>0</td>\n",
       "      <td>0</td>\n",
       "      <td>1</td>\n",
       "    </tr>\n",
       "    <tr>\n",
       "      <th>9</th>\n",
       "      <td>14.0</td>\n",
       "      <td>8</td>\n",
       "      <td>1.60</td>\n",
       "      <td>0</td>\n",
       "      <td>0</td>\n",
       "      <td>0</td>\n",
       "      <td>0</td>\n",
       "      <td>0</td>\n",
       "      <td>1</td>\n",
       "    </tr>\n",
       "  </tbody>\n",
       "</table>\n",
       "</div>"
      ],
      "text/plain": [
       "   Inches  Ram  Weight  Company_Asus  Company_Dell  Company_Lenovo  \\\n",
       "0    13.3    8    1.37             0             0               0   \n",
       "1    13.3    8    1.34             0             0               0   \n",
       "2    15.6    8    1.86             0             0               0   \n",
       "3    15.4   16    1.83             0             0               0   \n",
       "4    13.3    8    1.37             0             0               0   \n",
       "5    15.6    4    2.10             0             0               0   \n",
       "6    15.4   16    2.04             0             0               0   \n",
       "7    13.3    8    1.34             0             0               0   \n",
       "8    14.0   16    1.30             0             0               0   \n",
       "9    14.0    8    1.60             0             0               0   \n",
       "\n",
       "   Company_MSI  TypeName_Notebook  TypeName_Ultrabook  \n",
       "0            0                  0                   1  \n",
       "1            0                  0                   1  \n",
       "2            0                  0                   1  \n",
       "3            0                  0                   1  \n",
       "4            0                  0                   1  \n",
       "5            0                  0                   1  \n",
       "6            0                  0                   1  \n",
       "7            0                  0                   1  \n",
       "8            0                  0                   1  \n",
       "9            0                  0                   1  "
      ]
     },
     "execution_count": 188,
     "metadata": {},
     "output_type": "execute_result"
    }
   ],
   "source": [
    "#chuyen kieu\n",
    "X=pd.get_dummies(X, dtype = int, drop_first=True)\n",
    "X.head(10)"
   ]
  },
  {
   "cell_type": "code",
   "execution_count": 189,
   "id": "3fd88c55",
   "metadata": {},
   "outputs": [
    {
     "name": "stdout",
     "output_type": "stream",
     "text": [
      "<class 'pandas.core.frame.DataFrame'>\n",
      "RangeIndex: 558 entries, 0 to 557\n",
      "Data columns (total 9 columns):\n",
      " #   Column              Non-Null Count  Dtype  \n",
      "---  ------              --------------  -----  \n",
      " 0   Inches              558 non-null    float64\n",
      " 1   Ram                 558 non-null    int32  \n",
      " 2   Weight              558 non-null    float64\n",
      " 3   Company_Asus        558 non-null    int32  \n",
      " 4   Company_Dell        558 non-null    int32  \n",
      " 5   Company_Lenovo      558 non-null    int32  \n",
      " 6   Company_MSI         558 non-null    int32  \n",
      " 7   TypeName_Notebook   558 non-null    int32  \n",
      " 8   TypeName_Ultrabook  558 non-null    int32  \n",
      "dtypes: float64(2), int32(7)\n",
      "memory usage: 24.1 KB\n"
     ]
    }
   ],
   "source": [
    "X.info()"
   ]
  },
  {
   "cell_type": "markdown",
   "id": "4aff0bd2",
   "metadata": {},
   "source": [
    "# 1. TH du doan voi DL chua chuan hoa"
   ]
  },
  {
   "cell_type": "markdown",
   "id": "694b005a",
   "metadata": {},
   "source": [
    "# 2.TH du doan voi DL sau khi chuan hoa"
   ]
  },
  {
   "cell_type": "code",
   "execution_count": 190,
   "id": "029c65f5",
   "metadata": {},
   "outputs": [],
   "source": [
    "from sklearn.preprocessing import MinMaxScaler"
   ]
  },
  {
   "cell_type": "code",
   "execution_count": 191,
   "id": "bcf2d637",
   "metadata": {},
   "outputs": [
    {
     "data": {
      "text/html": [
       "<div>\n",
       "<style scoped>\n",
       "    .dataframe tbody tr th:only-of-type {\n",
       "        vertical-align: middle;\n",
       "    }\n",
       "\n",
       "    .dataframe tbody tr th {\n",
       "        vertical-align: top;\n",
       "    }\n",
       "\n",
       "    .dataframe thead th {\n",
       "        text-align: right;\n",
       "    }\n",
       "</style>\n",
       "<table border=\"1\" class=\"dataframe\">\n",
       "  <thead>\n",
       "    <tr style=\"text-align: right;\">\n",
       "      <th></th>\n",
       "      <th>Inches</th>\n",
       "      <th>Ram</th>\n",
       "      <th>Weight</th>\n",
       "      <th>Company_Asus</th>\n",
       "      <th>Company_Dell</th>\n",
       "      <th>Company_Lenovo</th>\n",
       "      <th>Company_MSI</th>\n",
       "      <th>TypeName_Notebook</th>\n",
       "      <th>TypeName_Ultrabook</th>\n",
       "    </tr>\n",
       "  </thead>\n",
       "  <tbody>\n",
       "    <tr>\n",
       "      <th>0</th>\n",
       "      <td>0.385542</td>\n",
       "      <td>8</td>\n",
       "      <td>1.37</td>\n",
       "      <td>0</td>\n",
       "      <td>0</td>\n",
       "      <td>0</td>\n",
       "      <td>0</td>\n",
       "      <td>0</td>\n",
       "      <td>1</td>\n",
       "    </tr>\n",
       "    <tr>\n",
       "      <th>1</th>\n",
       "      <td>0.385542</td>\n",
       "      <td>8</td>\n",
       "      <td>1.34</td>\n",
       "      <td>0</td>\n",
       "      <td>0</td>\n",
       "      <td>0</td>\n",
       "      <td>0</td>\n",
       "      <td>0</td>\n",
       "      <td>1</td>\n",
       "    </tr>\n",
       "    <tr>\n",
       "      <th>2</th>\n",
       "      <td>0.662651</td>\n",
       "      <td>8</td>\n",
       "      <td>1.86</td>\n",
       "      <td>0</td>\n",
       "      <td>0</td>\n",
       "      <td>0</td>\n",
       "      <td>0</td>\n",
       "      <td>0</td>\n",
       "      <td>1</td>\n",
       "    </tr>\n",
       "    <tr>\n",
       "      <th>3</th>\n",
       "      <td>0.638554</td>\n",
       "      <td>16</td>\n",
       "      <td>1.83</td>\n",
       "      <td>0</td>\n",
       "      <td>0</td>\n",
       "      <td>0</td>\n",
       "      <td>0</td>\n",
       "      <td>0</td>\n",
       "      <td>1</td>\n",
       "    </tr>\n",
       "    <tr>\n",
       "      <th>4</th>\n",
       "      <td>0.385542</td>\n",
       "      <td>8</td>\n",
       "      <td>1.37</td>\n",
       "      <td>0</td>\n",
       "      <td>0</td>\n",
       "      <td>0</td>\n",
       "      <td>0</td>\n",
       "      <td>0</td>\n",
       "      <td>1</td>\n",
       "    </tr>\n",
       "    <tr>\n",
       "      <th>...</th>\n",
       "      <td>...</td>\n",
       "      <td>...</td>\n",
       "      <td>...</td>\n",
       "      <td>...</td>\n",
       "      <td>...</td>\n",
       "      <td>...</td>\n",
       "      <td>...</td>\n",
       "      <td>...</td>\n",
       "      <td>...</td>\n",
       "    </tr>\n",
       "    <tr>\n",
       "      <th>553</th>\n",
       "      <td>0.867470</td>\n",
       "      <td>8</td>\n",
       "      <td>2.65</td>\n",
       "      <td>0</td>\n",
       "      <td>0</td>\n",
       "      <td>0</td>\n",
       "      <td>0</td>\n",
       "      <td>1</td>\n",
       "      <td>0</td>\n",
       "    </tr>\n",
       "    <tr>\n",
       "      <th>554</th>\n",
       "      <td>0.867470</td>\n",
       "      <td>8</td>\n",
       "      <td>2.63</td>\n",
       "      <td>0</td>\n",
       "      <td>0</td>\n",
       "      <td>0</td>\n",
       "      <td>0</td>\n",
       "      <td>1</td>\n",
       "      <td>0</td>\n",
       "    </tr>\n",
       "    <tr>\n",
       "      <th>555</th>\n",
       "      <td>0.662651</td>\n",
       "      <td>4</td>\n",
       "      <td>2.00</td>\n",
       "      <td>0</td>\n",
       "      <td>0</td>\n",
       "      <td>0</td>\n",
       "      <td>0</td>\n",
       "      <td>1</td>\n",
       "      <td>0</td>\n",
       "    </tr>\n",
       "    <tr>\n",
       "      <th>556</th>\n",
       "      <td>0.385542</td>\n",
       "      <td>4</td>\n",
       "      <td>1.35</td>\n",
       "      <td>0</td>\n",
       "      <td>0</td>\n",
       "      <td>0</td>\n",
       "      <td>0</td>\n",
       "      <td>1</td>\n",
       "      <td>0</td>\n",
       "    </tr>\n",
       "    <tr>\n",
       "      <th>557</th>\n",
       "      <td>0.867470</td>\n",
       "      <td>6</td>\n",
       "      <td>2.80</td>\n",
       "      <td>0</td>\n",
       "      <td>0</td>\n",
       "      <td>0</td>\n",
       "      <td>0</td>\n",
       "      <td>1</td>\n",
       "      <td>0</td>\n",
       "    </tr>\n",
       "  </tbody>\n",
       "</table>\n",
       "<p>558 rows × 9 columns</p>\n",
       "</div>"
      ],
      "text/plain": [
       "       Inches  Ram  Weight  Company_Asus  Company_Dell  Company_Lenovo  \\\n",
       "0    0.385542    8    1.37             0             0               0   \n",
       "1    0.385542    8    1.34             0             0               0   \n",
       "2    0.662651    8    1.86             0             0               0   \n",
       "3    0.638554   16    1.83             0             0               0   \n",
       "4    0.385542    8    1.37             0             0               0   \n",
       "..        ...  ...     ...           ...           ...             ...   \n",
       "553  0.867470    8    2.65             0             0               0   \n",
       "554  0.867470    8    2.63             0             0               0   \n",
       "555  0.662651    4    2.00             0             0               0   \n",
       "556  0.385542    4    1.35             0             0               0   \n",
       "557  0.867470    6    2.80             0             0               0   \n",
       "\n",
       "     Company_MSI  TypeName_Notebook  TypeName_Ultrabook  \n",
       "0              0                  0                   1  \n",
       "1              0                  0                   1  \n",
       "2              0                  0                   1  \n",
       "3              0                  0                   1  \n",
       "4              0                  0                   1  \n",
       "..           ...                ...                 ...  \n",
       "553            0                  1                   0  \n",
       "554            0                  1                   0  \n",
       "555            0                  1                   0  \n",
       "556            0                  1                   0  \n",
       "557            0                  1                   0  \n",
       "\n",
       "[558 rows x 9 columns]"
      ]
     },
     "execution_count": 191,
     "metadata": {},
     "output_type": "execute_result"
    }
   ],
   "source": [
    "#chuyen hoa Inches\n",
    "scaler = MinMaxScaler()\n",
    "X[\"Inches\"] = scaler.fit_transform(X[[\"Inches\"]])\n",
    "X"
   ]
  },
  {
   "cell_type": "code",
   "execution_count": 192,
   "id": "9a6169d2",
   "metadata": {},
   "outputs": [
    {
     "data": {
      "text/plain": [
       "((390, 9), (168, 9), (390,), (168,))"
      ]
     },
     "execution_count": 192,
     "metadata": {},
     "output_type": "execute_result"
    }
   ],
   "source": [
    "X_train, X_test, y_train, y_test = train_test_split(X,y,test_size=0.3, random_state=4)\n",
    "X_train.shape, X_test.shape, y_train.shape, y_test.shape"
   ]
  },
  {
   "cell_type": "markdown",
   "id": "cdb41651",
   "metadata": {},
   "source": [
    "# KNN regresstion"
   ]
  },
  {
   "cell_type": "code",
   "execution_count": 193,
   "id": "b083bdd1",
   "metadata": {},
   "outputs": [
    {
     "name": "stdout",
     "output_type": "stream",
     "text": [
      "      y_test  y_predicted\n",
      "480  1262.00  1102.384444\n",
      "72    870.00   699.432222\n",
      "369  1750.00  1427.555556\n",
      "225   832.00  1056.321111\n",
      "124   451.00   450.666667\n",
      "386   549.00   580.211111\n",
      "553   544.15  1200.044444\n",
      "469  1858.00  1132.887778\n",
      "253  1849.00  1345.422222\n",
      "206   439.00   598.777778\n"
     ]
    }
   ],
   "source": [
    "knn_Reg = KNeighborsRegressor(n_neighbors=9)\n",
    "knn_Reg.fit(X_train, y_train)\n",
    "y_pred_knn = knn_Reg.predict(X_test)\n",
    "\n",
    "#y_pred knn\n",
    "print(pd.DataFrame({\"y_test\":y_test, \"y_predicted\": y_pred_knn}).head(10))"
   ]
  },
  {
   "cell_type": "markdown",
   "id": "6659d2f8",
   "metadata": {},
   "source": [
    "# danh gia"
   ]
  },
  {
   "cell_type": "code",
   "execution_count": 194,
   "id": "290b9f3c",
   "metadata": {},
   "outputs": [],
   "source": [
    "from sklearn.metrics import mean_absolute_error, mean_squared_error"
   ]
  },
  {
   "cell_type": "code",
   "execution_count": 195,
   "id": "89f02991",
   "metadata": {},
   "outputs": [
    {
     "name": "stdout",
     "output_type": "stream",
     "text": [
      "MAE:  282.8904365079365\n",
      "RMSE:  387.0671223529191\n"
     ]
    }
   ],
   "source": [
    "MAE_KNN = mean_absolute_error(y_test, y_pred_knn)\n",
    "RMSE_KNN = np.sqrt(mean_squared_error(y_test, y_pred_knn))\n",
    "\n",
    "print(\"MAE: \", MAE_KNN)\n",
    "print(\"RMSE: \", RMSE_KNN)\n"
   ]
  },
  {
   "cell_type": "markdown",
   "id": "fb78dcf2",
   "metadata": {},
   "source": [
    "# Linear regresstion"
   ]
  },
  {
   "cell_type": "markdown",
   "id": "366174cd",
   "metadata": {},
   "source": [
    "## y = coed_*x + intercept_"
   ]
  },
  {
   "cell_type": "code",
   "execution_count": 196,
   "id": "51510472",
   "metadata": {},
   "outputs": [],
   "source": [
    "from sklearn.linear_model import LinearRegression"
   ]
  },
  {
   "cell_type": "markdown",
   "id": "d3e39466",
   "metadata": {},
   "source": [
    "## HQTT don gian"
   ]
  },
  {
   "cell_type": "markdown",
   "id": "8ba9d2db",
   "metadata": {},
   "source": [
    "## y = b1x + b0"
   ]
  },
  {
   "cell_type": "code",
   "execution_count": 197,
   "id": "b947e847",
   "metadata": {
    "scrolled": true
   },
   "outputs": [
    {
     "name": "stdout",
     "output_type": "stream",
     "text": [
      "[1.94285714]\n",
      "8.2\n"
     ]
    }
   ],
   "source": [
    "reg = LinearRegression()\n",
    "reg.fit([[1],[2], [3], [4], [5], [6]],[11, 11, 14, 16, 18, 20])\n",
    "\n",
    "print(reg.coef_) #b1\n",
    "print(reg.intercept_) #b0"
   ]
  },
  {
   "cell_type": "markdown",
   "id": "687e4f5e",
   "metadata": {},
   "source": [
    "## HQTT da bien"
   ]
  },
  {
   "cell_type": "markdown",
   "id": "c907b306",
   "metadata": {},
   "source": [
    "## y = w1x1 + w2x2 +...+wnxn +w0"
   ]
  },
  {
   "cell_type": "code",
   "execution_count": 198,
   "id": "0629b011",
   "metadata": {},
   "outputs": [
    {
     "name": "stdout",
     "output_type": "stream",
     "text": [
      "      y_test  y_predicted\n",
      "480  1262.00  1032.069092\n",
      "72    870.00   929.007038\n",
      "369  1750.00  1105.154332\n",
      "225   832.00  1033.319140\n",
      "124   451.00   444.424872\n",
      "386   549.00   670.985176\n",
      "553   544.15   919.183214\n",
      "469  1858.00  1587.861425\n",
      "253  1849.00  1059.914958\n",
      "206   439.00   792.464592\n"
     ]
    }
   ],
   "source": [
    "Linear_Reg = LinearRegression()\n",
    "Linear_Reg.fit(X_train, y_train)\n",
    "\n",
    "y_predicted = Linear_Reg.predict(X_test)\n",
    "#y_predicted\n",
    "print(pd.DataFrame({\"y_test\":y_test, \"y_predicted\": y_predicted}).head(10))"
   ]
  },
  {
   "cell_type": "code",
   "execution_count": 199,
   "id": "c5e63d21",
   "metadata": {},
   "outputs": [
    {
     "data": {
      "text/plain": [
       "257.3984453709328"
      ]
     },
     "execution_count": 199,
     "metadata": {},
     "output_type": "execute_result"
    }
   ],
   "source": [
    "# w = Linear_Reg.coef_\n",
    "# w\n",
    "w0 = Linear_Reg.intercept_\n",
    "w0"
   ]
  },
  {
   "cell_type": "code",
   "execution_count": 200,
   "id": "474ed671",
   "metadata": {
    "scrolled": true
   },
   "outputs": [
    {
     "name": "stdout",
     "output_type": "stream",
     "text": [
      "      y_test  y_predicted\n",
      "480  1262.00  1032.069092\n",
      "72    870.00   929.007038\n",
      "369  1750.00  1105.154332\n",
      "225   832.00  1033.319140\n",
      "124   451.00   444.424872\n",
      "386   549.00   670.985176\n",
      "553   544.15   919.183214\n",
      "469  1858.00  1587.861425\n",
      "253  1849.00  1059.914958\n",
      "206   439.00   792.464592\n"
     ]
    }
   ],
   "source": [
    "y_pred_lin = Linear_Reg.predict(X_test)\n",
    "\n",
    "#y_pred\n",
    "print(pd.DataFrame({\"y_test\":y_test, \"y_predicted\": y_predicted}).head(10))\n"
   ]
  },
  {
   "cell_type": "code",
   "execution_count": 201,
   "id": "37b5dd85",
   "metadata": {},
   "outputs": [
    {
     "name": "stdout",
     "output_type": "stream",
     "text": [
      "MAE Linear:  308.80451327448446\n",
      "RMSE Linear:  418.0633269830687\n"
     ]
    }
   ],
   "source": [
    "MAE_Linear = mean_absolute_error(y_test, y_pred_lin)\n",
    "RMSE_Linear = np.sqrt(mean_squared_error(y_test, y_pred_lin))\n",
    "\n",
    "print(\"MAE Linear: \", MAE_Linear)\n",
    "print(\"RMSE Linear: \", RMSE_Linear)\n"
   ]
  },
  {
   "cell_type": "markdown",
   "id": "ce04402b",
   "metadata": {},
   "source": [
    "## So sanh ket qua"
   ]
  },
  {
   "cell_type": "code",
   "execution_count": 202,
   "id": "3a365b67",
   "metadata": {},
   "outputs": [],
   "source": [
    "import matplotlib.pyplot as plt"
   ]
  },
  {
   "cell_type": "code",
   "execution_count": 203,
   "id": "2f0d6cb5",
   "metadata": {},
   "outputs": [
    {
     "data": {
      "text/plain": [
       "[282.8904365079365, 308.80451327448446, 387.0671223529191, 418.0633269830687]"
      ]
     },
     "execution_count": 203,
     "metadata": {},
     "output_type": "execute_result"
    }
   ],
   "source": [
    "x = [\"MAE_KNN\", \"MAE_Linear\", \"RMSE_KNN\", \"RMSE_Linear\"]\n",
    "y = [MAE_KNN, MAE_Linear, RMSE_KNN, RMSE_Linear]\n",
    "y"
   ]
  },
  {
   "cell_type": "code",
   "execution_count": 204,
   "id": "52ee4935",
   "metadata": {},
   "outputs": [
    {
     "data": {
      "text/plain": [
       "Text(0.5, 1.0, 'so sanh KNN va Linear regression')"
      ]
     },
     "execution_count": 204,
     "metadata": {},
     "output_type": "execute_result"
    },
    {
     "data": {
      "image/png": "[encoded data removed]",
      "text/plain": [
       "<Figure size 600x300 with 1 Axes>"
      ]
     },
     "metadata": {},
     "output_type": "display_data"
    }
   ],
   "source": [
    "plt.figure(figsize=(6, 3))\n",
    "plt.bar(x,y)\n",
    "plt.xlabel(\"ham danh gia loi\", fontsize = 16)\n",
    "plt.ylabel(\"loi tong the\", fontsize = 16)\n",
    "plt.title(\"so sanh KNN va Linear regression\", fontsize = 18)"
   ]
  },
  {
   "cell_type": "code",
   "execution_count": null,
   "id": "dc7ce3e4",
   "metadata": {},
   "outputs": [],
   "source": []
  }
 ],
 "metadata": {
  "kernelspec": {
   "display_name": "Python 3 (ipykernel)",
   "language": "python",
   "name": "python3"
  },
  "language_info": {
   "codemirror_mode": {
    "name": "ipython",
    "version": 3
   },
   "file_extension": ".py",
   "mimetype": "text/x-python",
   "name": "python",
   "nbconvert_exporter": "python",
   "pygments_lexer": "ipython3",
   "version": "3.10.9"
  }
 },
 "nbformat": 4,
 "nbformat_minor": 5
}
